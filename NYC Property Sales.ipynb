{
 "cells": [
  {
   "cell_type": "code",
   "execution_count": 1,
   "id": "c5e37b37",
   "metadata": {},
   "outputs": [],
   "source": [
    "# importing Libraries\n",
    "import pandas as pd\n",
    "import numpy as np\n",
    "import matplotlib.pyplot as plt\n",
    "%matplotlib inline\n",
    "import seaborn as sb\n",
    "\n",
    "from sklearn.model_selection import KFold\n",
    "from sklearn.model_selection import train_test_split \n",
    "from sklearn.model_selection import GridSearchCV\n",
    "from sklearn.preprocessing import StandardScaler\n",
    "\n",
    "from sklearn.linear_model import LinearRegression \n",
    "from sklearn.linear_model import Lasso\n",
    "from sklearn.linear_model import Ridge\n",
    "from sklearn.ensemble import RandomForestRegressor\n",
    "from sklearn.linear_model import ElasticNet\n",
    "\n",
    "from sklearn import metrics\n",
    "from sklearn.metrics import mean_squared_error\n",
    "from sklearn.model_selection import cross_val_score\n"
   ]
  },
  {
   "cell_type": "code",
   "execution_count": 2,
   "id": "728e0ebd",
   "metadata": {},
   "outputs": [
    {
     "data": {
      "text/html": [
       "<div>\n",
       "<style scoped>\n",
       "    .dataframe tbody tr th:only-of-type {\n",
       "        vertical-align: middle;\n",
       "    }\n",
       "\n",
       "    .dataframe tbody tr th {\n",
       "        vertical-align: top;\n",
       "    }\n",
       "\n",
       "    .dataframe thead th {\n",
       "        text-align: right;\n",
       "    }\n",
       "</style>\n",
       "<table border=\"1\" class=\"dataframe\">\n",
       "  <thead>\n",
       "    <tr style=\"text-align: right;\">\n",
       "      <th></th>\n",
       "      <th>Unnamed: 0</th>\n",
       "      <th>BOROUGH</th>\n",
       "      <th>NEIGHBORHOOD</th>\n",
       "      <th>BUILDING CLASS CATEGORY</th>\n",
       "      <th>TAX CLASS AT PRESENT</th>\n",
       "      <th>BLOCK</th>\n",
       "      <th>LOT</th>\n",
       "      <th>EASE-MENT</th>\n",
       "      <th>BUILDING CLASS AT PRESENT</th>\n",
       "      <th>ADDRESS</th>\n",
       "      <th>...</th>\n",
       "      <th>RESIDENTIAL UNITS</th>\n",
       "      <th>COMMERCIAL UNITS</th>\n",
       "      <th>TOTAL UNITS</th>\n",
       "      <th>LAND SQUARE FEET</th>\n",
       "      <th>GROSS SQUARE FEET</th>\n",
       "      <th>YEAR BUILT</th>\n",
       "      <th>TAX CLASS AT TIME OF SALE</th>\n",
       "      <th>BUILDING CLASS AT TIME OF SALE</th>\n",
       "      <th>SALE PRICE</th>\n",
       "      <th>SALE DATE</th>\n",
       "    </tr>\n",
       "  </thead>\n",
       "  <tbody>\n",
       "    <tr>\n",
       "      <th>0</th>\n",
       "      <td>4</td>\n",
       "      <td>1</td>\n",
       "      <td>ALPHABET CITY</td>\n",
       "      <td>07 RENTALS - WALKUP APARTMENTS</td>\n",
       "      <td>2A</td>\n",
       "      <td>392</td>\n",
       "      <td>6</td>\n",
       "      <td></td>\n",
       "      <td>C2</td>\n",
       "      <td>153 AVENUE B</td>\n",
       "      <td>...</td>\n",
       "      <td>5</td>\n",
       "      <td>0</td>\n",
       "      <td>5</td>\n",
       "      <td>1633</td>\n",
       "      <td>6440</td>\n",
       "      <td>1900</td>\n",
       "      <td>2</td>\n",
       "      <td>C2</td>\n",
       "      <td>6625000</td>\n",
       "      <td>2017-07-19 00:00:00</td>\n",
       "    </tr>\n",
       "    <tr>\n",
       "      <th>1</th>\n",
       "      <td>5</td>\n",
       "      <td>1</td>\n",
       "      <td>ALPHABET CITY</td>\n",
       "      <td>07 RENTALS - WALKUP APARTMENTS</td>\n",
       "      <td>2</td>\n",
       "      <td>399</td>\n",
       "      <td>26</td>\n",
       "      <td></td>\n",
       "      <td>C7</td>\n",
       "      <td>234 EAST 4TH   STREET</td>\n",
       "      <td>...</td>\n",
       "      <td>28</td>\n",
       "      <td>3</td>\n",
       "      <td>31</td>\n",
       "      <td>4616</td>\n",
       "      <td>18690</td>\n",
       "      <td>1900</td>\n",
       "      <td>2</td>\n",
       "      <td>C7</td>\n",
       "      <td>-</td>\n",
       "      <td>2016-12-14 00:00:00</td>\n",
       "    </tr>\n",
       "    <tr>\n",
       "      <th>2</th>\n",
       "      <td>6</td>\n",
       "      <td>1</td>\n",
       "      <td>ALPHABET CITY</td>\n",
       "      <td>07 RENTALS - WALKUP APARTMENTS</td>\n",
       "      <td>2</td>\n",
       "      <td>399</td>\n",
       "      <td>39</td>\n",
       "      <td></td>\n",
       "      <td>C7</td>\n",
       "      <td>197 EAST 3RD   STREET</td>\n",
       "      <td>...</td>\n",
       "      <td>16</td>\n",
       "      <td>1</td>\n",
       "      <td>17</td>\n",
       "      <td>2212</td>\n",
       "      <td>7803</td>\n",
       "      <td>1900</td>\n",
       "      <td>2</td>\n",
       "      <td>C7</td>\n",
       "      <td>-</td>\n",
       "      <td>2016-12-09 00:00:00</td>\n",
       "    </tr>\n",
       "    <tr>\n",
       "      <th>3</th>\n",
       "      <td>7</td>\n",
       "      <td>1</td>\n",
       "      <td>ALPHABET CITY</td>\n",
       "      <td>07 RENTALS - WALKUP APARTMENTS</td>\n",
       "      <td>2B</td>\n",
       "      <td>402</td>\n",
       "      <td>21</td>\n",
       "      <td></td>\n",
       "      <td>C4</td>\n",
       "      <td>154 EAST 7TH STREET</td>\n",
       "      <td>...</td>\n",
       "      <td>10</td>\n",
       "      <td>0</td>\n",
       "      <td>10</td>\n",
       "      <td>2272</td>\n",
       "      <td>6794</td>\n",
       "      <td>1913</td>\n",
       "      <td>2</td>\n",
       "      <td>C4</td>\n",
       "      <td>3936272</td>\n",
       "      <td>2016-09-23 00:00:00</td>\n",
       "    </tr>\n",
       "    <tr>\n",
       "      <th>4</th>\n",
       "      <td>8</td>\n",
       "      <td>1</td>\n",
       "      <td>ALPHABET CITY</td>\n",
       "      <td>07 RENTALS - WALKUP APARTMENTS</td>\n",
       "      <td>2A</td>\n",
       "      <td>404</td>\n",
       "      <td>55</td>\n",
       "      <td></td>\n",
       "      <td>C2</td>\n",
       "      <td>301 EAST 10TH   STREET</td>\n",
       "      <td>...</td>\n",
       "      <td>6</td>\n",
       "      <td>0</td>\n",
       "      <td>6</td>\n",
       "      <td>2369</td>\n",
       "      <td>4615</td>\n",
       "      <td>1900</td>\n",
       "      <td>2</td>\n",
       "      <td>C2</td>\n",
       "      <td>8000000</td>\n",
       "      <td>2016-11-17 00:00:00</td>\n",
       "    </tr>\n",
       "  </tbody>\n",
       "</table>\n",
       "<p>5 rows × 22 columns</p>\n",
       "</div>"
      ],
      "text/plain": [
       "   Unnamed: 0  BOROUGH   NEIGHBORHOOD  \\\n",
       "0           4        1  ALPHABET CITY   \n",
       "1           5        1  ALPHABET CITY   \n",
       "2           6        1  ALPHABET CITY   \n",
       "3           7        1  ALPHABET CITY   \n",
       "4           8        1  ALPHABET CITY   \n",
       "\n",
       "                       BUILDING CLASS CATEGORY TAX CLASS AT PRESENT  BLOCK  \\\n",
       "0  07 RENTALS - WALKUP APARTMENTS                                2A    392   \n",
       "1  07 RENTALS - WALKUP APARTMENTS                                 2    399   \n",
       "2  07 RENTALS - WALKUP APARTMENTS                                 2    399   \n",
       "3  07 RENTALS - WALKUP APARTMENTS                                2B    402   \n",
       "4  07 RENTALS - WALKUP APARTMENTS                                2A    404   \n",
       "\n",
       "   LOT EASE-MENT BUILDING CLASS AT PRESENT                 ADDRESS  ...  \\\n",
       "0    6                                  C2            153 AVENUE B  ...   \n",
       "1   26                                  C7   234 EAST 4TH   STREET  ...   \n",
       "2   39                                  C7   197 EAST 3RD   STREET  ...   \n",
       "3   21                                  C4     154 EAST 7TH STREET  ...   \n",
       "4   55                                  C2  301 EAST 10TH   STREET  ...   \n",
       "\n",
       "  RESIDENTIAL UNITS  COMMERCIAL UNITS  TOTAL UNITS  LAND SQUARE FEET  \\\n",
       "0                 5                 0            5              1633   \n",
       "1                28                 3           31              4616   \n",
       "2                16                 1           17              2212   \n",
       "3                10                 0           10              2272   \n",
       "4                 6                 0            6              2369   \n",
       "\n",
       "   GROSS SQUARE FEET YEAR BUILT TAX CLASS AT TIME OF SALE  \\\n",
       "0               6440       1900                         2   \n",
       "1              18690       1900                         2   \n",
       "2               7803       1900                         2   \n",
       "3               6794       1913                         2   \n",
       "4               4615       1900                         2   \n",
       "\n",
       "   BUILDING CLASS AT TIME OF SALE  SALE PRICE            SALE DATE  \n",
       "0                              C2     6625000  2017-07-19 00:00:00  \n",
       "1                              C7         -    2016-12-14 00:00:00  \n",
       "2                              C7         -    2016-12-09 00:00:00  \n",
       "3                              C4     3936272  2016-09-23 00:00:00  \n",
       "4                              C2     8000000  2016-11-17 00:00:00  \n",
       "\n",
       "[5 rows x 22 columns]"
      ]
     },
     "execution_count": 2,
     "metadata": {},
     "output_type": "execute_result"
    }
   ],
   "source": [
    "#importing Dataset in a Data Frame\n",
    "DataFrame=pd.read_csv(r\"C:\\Users\\gaura\\Downloads\\Kaggle Datasets\\nyc-rolling-sales.csv\") \n",
    "DataFrame.head()"
   ]
  },
  {
   "cell_type": "code",
   "execution_count": 3,
   "id": "10a70bd4",
   "metadata": {},
   "outputs": [
    {
     "name": "stdout",
     "output_type": "stream",
     "text": [
      "<class 'pandas.core.frame.DataFrame'>\n",
      "RangeIndex: 84548 entries, 0 to 84547\n",
      "Data columns (total 22 columns):\n",
      " #   Column                          Non-Null Count  Dtype \n",
      "---  ------                          --------------  ----- \n",
      " 0   Unnamed: 0                      84548 non-null  int64 \n",
      " 1   BOROUGH                         84548 non-null  int64 \n",
      " 2   NEIGHBORHOOD                    84548 non-null  object\n",
      " 3   BUILDING CLASS CATEGORY         84548 non-null  object\n",
      " 4   TAX CLASS AT PRESENT            84548 non-null  object\n",
      " 5   BLOCK                           84548 non-null  int64 \n",
      " 6   LOT                             84548 non-null  int64 \n",
      " 7   EASE-MENT                       84548 non-null  object\n",
      " 8   BUILDING CLASS AT PRESENT       84548 non-null  object\n",
      " 9   ADDRESS                         84548 non-null  object\n",
      " 10  APARTMENT NUMBER                84548 non-null  object\n",
      " 11  ZIP CODE                        84548 non-null  int64 \n",
      " 12  RESIDENTIAL UNITS               84548 non-null  int64 \n",
      " 13  COMMERCIAL UNITS                84548 non-null  int64 \n",
      " 14  TOTAL UNITS                     84548 non-null  int64 \n",
      " 15  LAND SQUARE FEET                84548 non-null  object\n",
      " 16  GROSS SQUARE FEET               84548 non-null  object\n",
      " 17  YEAR BUILT                      84548 non-null  int64 \n",
      " 18  TAX CLASS AT TIME OF SALE       84548 non-null  int64 \n",
      " 19  BUILDING CLASS AT TIME OF SALE  84548 non-null  object\n",
      " 20  SALE PRICE                      84548 non-null  object\n",
      " 21  SALE DATE                       84548 non-null  object\n",
      "dtypes: int64(10), object(12)\n",
      "memory usage: 14.2+ MB\n"
     ]
    }
   ],
   "source": [
    "DataFrame.info()\n"
   ]
  },
  {
   "cell_type": "code",
   "execution_count": 4,
   "id": "aee48d9d",
   "metadata": {},
   "outputs": [
    {
     "data": {
      "text/html": [
       "<div>\n",
       "<style scoped>\n",
       "    .dataframe tbody tr th:only-of-type {\n",
       "        vertical-align: middle;\n",
       "    }\n",
       "\n",
       "    .dataframe tbody tr th {\n",
       "        vertical-align: top;\n",
       "    }\n",
       "\n",
       "    .dataframe thead th {\n",
       "        text-align: right;\n",
       "    }\n",
       "</style>\n",
       "<table border=\"1\" class=\"dataframe\">\n",
       "  <thead>\n",
       "    <tr style=\"text-align: right;\">\n",
       "      <th></th>\n",
       "      <th>Unnamed: 0</th>\n",
       "      <th>BOROUGH</th>\n",
       "      <th>BLOCK</th>\n",
       "      <th>LOT</th>\n",
       "      <th>ZIP CODE</th>\n",
       "      <th>RESIDENTIAL UNITS</th>\n",
       "      <th>COMMERCIAL UNITS</th>\n",
       "      <th>TOTAL UNITS</th>\n",
       "      <th>YEAR BUILT</th>\n",
       "      <th>TAX CLASS AT TIME OF SALE</th>\n",
       "    </tr>\n",
       "  </thead>\n",
       "  <tbody>\n",
       "    <tr>\n",
       "      <th>count</th>\n",
       "      <td>84548.000000</td>\n",
       "      <td>84548.000000</td>\n",
       "      <td>84548.000000</td>\n",
       "      <td>84548.000000</td>\n",
       "      <td>84548.000000</td>\n",
       "      <td>84548.000000</td>\n",
       "      <td>84548.000000</td>\n",
       "      <td>84548.000000</td>\n",
       "      <td>84548.000000</td>\n",
       "      <td>84548.000000</td>\n",
       "    </tr>\n",
       "    <tr>\n",
       "      <th>mean</th>\n",
       "      <td>10344.359878</td>\n",
       "      <td>2.998758</td>\n",
       "      <td>4237.218976</td>\n",
       "      <td>376.224015</td>\n",
       "      <td>10731.991614</td>\n",
       "      <td>2.025264</td>\n",
       "      <td>0.193559</td>\n",
       "      <td>2.249184</td>\n",
       "      <td>1789.322976</td>\n",
       "      <td>1.657485</td>\n",
       "    </tr>\n",
       "    <tr>\n",
       "      <th>std</th>\n",
       "      <td>7151.779436</td>\n",
       "      <td>1.289790</td>\n",
       "      <td>3568.263407</td>\n",
       "      <td>658.136814</td>\n",
       "      <td>1290.879147</td>\n",
       "      <td>16.721037</td>\n",
       "      <td>8.713183</td>\n",
       "      <td>18.972584</td>\n",
       "      <td>537.344993</td>\n",
       "      <td>0.819341</td>\n",
       "    </tr>\n",
       "    <tr>\n",
       "      <th>min</th>\n",
       "      <td>4.000000</td>\n",
       "      <td>1.000000</td>\n",
       "      <td>1.000000</td>\n",
       "      <td>1.000000</td>\n",
       "      <td>0.000000</td>\n",
       "      <td>0.000000</td>\n",
       "      <td>0.000000</td>\n",
       "      <td>0.000000</td>\n",
       "      <td>0.000000</td>\n",
       "      <td>1.000000</td>\n",
       "    </tr>\n",
       "    <tr>\n",
       "      <th>25%</th>\n",
       "      <td>4231.000000</td>\n",
       "      <td>2.000000</td>\n",
       "      <td>1322.750000</td>\n",
       "      <td>22.000000</td>\n",
       "      <td>10305.000000</td>\n",
       "      <td>0.000000</td>\n",
       "      <td>0.000000</td>\n",
       "      <td>1.000000</td>\n",
       "      <td>1920.000000</td>\n",
       "      <td>1.000000</td>\n",
       "    </tr>\n",
       "    <tr>\n",
       "      <th>50%</th>\n",
       "      <td>8942.000000</td>\n",
       "      <td>3.000000</td>\n",
       "      <td>3311.000000</td>\n",
       "      <td>50.000000</td>\n",
       "      <td>11209.000000</td>\n",
       "      <td>1.000000</td>\n",
       "      <td>0.000000</td>\n",
       "      <td>1.000000</td>\n",
       "      <td>1940.000000</td>\n",
       "      <td>2.000000</td>\n",
       "    </tr>\n",
       "    <tr>\n",
       "      <th>75%</th>\n",
       "      <td>15987.250000</td>\n",
       "      <td>4.000000</td>\n",
       "      <td>6281.000000</td>\n",
       "      <td>1001.000000</td>\n",
       "      <td>11357.000000</td>\n",
       "      <td>2.000000</td>\n",
       "      <td>0.000000</td>\n",
       "      <td>2.000000</td>\n",
       "      <td>1965.000000</td>\n",
       "      <td>2.000000</td>\n",
       "    </tr>\n",
       "    <tr>\n",
       "      <th>max</th>\n",
       "      <td>26739.000000</td>\n",
       "      <td>5.000000</td>\n",
       "      <td>16322.000000</td>\n",
       "      <td>9106.000000</td>\n",
       "      <td>11694.000000</td>\n",
       "      <td>1844.000000</td>\n",
       "      <td>2261.000000</td>\n",
       "      <td>2261.000000</td>\n",
       "      <td>2017.000000</td>\n",
       "      <td>4.000000</td>\n",
       "    </tr>\n",
       "  </tbody>\n",
       "</table>\n",
       "</div>"
      ],
      "text/plain": [
       "         Unnamed: 0       BOROUGH         BLOCK           LOT      ZIP CODE  \\\n",
       "count  84548.000000  84548.000000  84548.000000  84548.000000  84548.000000   \n",
       "mean   10344.359878      2.998758   4237.218976    376.224015  10731.991614   \n",
       "std     7151.779436      1.289790   3568.263407    658.136814   1290.879147   \n",
       "min        4.000000      1.000000      1.000000      1.000000      0.000000   \n",
       "25%     4231.000000      2.000000   1322.750000     22.000000  10305.000000   \n",
       "50%     8942.000000      3.000000   3311.000000     50.000000  11209.000000   \n",
       "75%    15987.250000      4.000000   6281.000000   1001.000000  11357.000000   \n",
       "max    26739.000000      5.000000  16322.000000   9106.000000  11694.000000   \n",
       "\n",
       "       RESIDENTIAL UNITS  COMMERCIAL UNITS   TOTAL UNITS    YEAR BUILT  \\\n",
       "count       84548.000000      84548.000000  84548.000000  84548.000000   \n",
       "mean            2.025264          0.193559      2.249184   1789.322976   \n",
       "std            16.721037          8.713183     18.972584    537.344993   \n",
       "min             0.000000          0.000000      0.000000      0.000000   \n",
       "25%             0.000000          0.000000      1.000000   1920.000000   \n",
       "50%             1.000000          0.000000      1.000000   1940.000000   \n",
       "75%             2.000000          0.000000      2.000000   1965.000000   \n",
       "max          1844.000000       2261.000000   2261.000000   2017.000000   \n",
       "\n",
       "       TAX CLASS AT TIME OF SALE  \n",
       "count               84548.000000  \n",
       "mean                    1.657485  \n",
       "std                     0.819341  \n",
       "min                     1.000000  \n",
       "25%                     1.000000  \n",
       "50%                     2.000000  \n",
       "75%                     2.000000  \n",
       "max                     4.000000  "
      ]
     },
     "execution_count": 4,
     "metadata": {},
     "output_type": "execute_result"
    }
   ],
   "source": [
    "DataFrame.describe()\n"
   ]
  },
  {
   "cell_type": "code",
   "execution_count": 5,
   "id": "a2daf8e2",
   "metadata": {},
   "outputs": [
    {
     "data": {
      "text/plain": [
       "0"
      ]
     },
     "execution_count": 5,
     "metadata": {},
     "output_type": "execute_result"
    }
   ],
   "source": [
    "# checking Duplicates\n",
    "sum(DataFrame.duplicated(DataFrame.columns))"
   ]
  },
  {
   "cell_type": "code",
   "execution_count": 6,
   "id": "f2c8c889",
   "metadata": {},
   "outputs": [
    {
     "data": {
      "text/plain": [
       "Index(['BOROUGH', 'NEIGHBORHOOD', 'BUILDING CLASS CATEGORY',\n",
       "       'TAX CLASS AT PRESENT', 'BLOCK', 'LOT', 'EASE-MENT',\n",
       "       'BUILDING CLASS AT PRESENT', 'ADDRESS', 'APARTMENT NUMBER', 'ZIP CODE',\n",
       "       'RESIDENTIAL UNITS', 'COMMERCIAL UNITS', 'TOTAL UNITS',\n",
       "       'LAND SQUARE FEET', 'GROSS SQUARE FEET', 'YEAR BUILT',\n",
       "       'TAX CLASS AT TIME OF SALE', 'BUILDING CLASS AT TIME OF SALE',\n",
       "       'SALE PRICE', 'SALE DATE'],\n",
       "      dtype='object')"
      ]
     },
     "execution_count": 6,
     "metadata": {},
     "output_type": "execute_result"
    }
   ],
   "source": [
    "# copying DF and Dropping 'Unnamed: 0'\n",
    "df=DataFrame.copy()\n",
    "df.columns\n",
    "df=df.drop(\"Unnamed: 0\",axis=1)\n",
    "df.columns"
   ]
  },
  {
   "cell_type": "code",
   "execution_count": 7,
   "id": "190c1282",
   "metadata": {},
   "outputs": [
    {
     "data": {
      "text/plain": [
       "4    26736\n",
       "3    24047\n",
       "1    18306\n",
       "5     8410\n",
       "2     7049\n",
       "Name: BOROUGH, dtype: int64"
      ]
     },
     "execution_count": 7,
     "metadata": {},
     "output_type": "execute_result"
    }
   ],
   "source": [
    "#checking BOROUGH for NUll Values\n",
    "df['BOROUGH'].value_counts()"
   ]
  },
  {
   "cell_type": "code",
   "execution_count": 8,
   "id": "2b40e8c8",
   "metadata": {},
   "outputs": [
    {
     "data": {
      "text/plain": [
       "Queens           26736\n",
       "Brooklyn         24047\n",
       "Manhattan        18306\n",
       "Staten Island     8410\n",
       "Bronx             7049\n",
       "Name: BOROUGH, dtype: int64"
      ]
     },
     "execution_count": 8,
     "metadata": {},
     "output_type": "execute_result"
    }
   ],
   "source": [
    "#replacing Borough key with values\n",
    "df['BOROUGH']=df['BOROUGH'].replace({1:'Manhattan',2:'Bronx',3:'Brooklyn',4:'Queens',5:'Staten Island'})\n",
    "df['BOROUGH'].value_counts()"
   ]
  },
  {
   "cell_type": "code",
   "execution_count": 9,
   "id": "ba80f431",
   "metadata": {},
   "outputs": [
    {
     "name": "stdout",
     "output_type": "stream",
     "text": [
      "<class 'pandas.core.frame.DataFrame'>\n",
      "RangeIndex: 84548 entries, 0 to 84547\n",
      "Data columns (total 21 columns):\n",
      " #   Column                          Non-Null Count  Dtype   \n",
      "---  ------                          --------------  -----   \n",
      " 0   BOROUGH                         84548 non-null  category\n",
      " 1   NEIGHBORHOOD                    84548 non-null  object  \n",
      " 2   BUILDING CLASS CATEGORY         84548 non-null  object  \n",
      " 3   TAX CLASS AT PRESENT            84548 non-null  object  \n",
      " 4   BLOCK                           84548 non-null  int64   \n",
      " 5   LOT                             84548 non-null  int64   \n",
      " 6   EASE-MENT                       84548 non-null  object  \n",
      " 7   BUILDING CLASS AT PRESENT       84548 non-null  object  \n",
      " 8   ADDRESS                         84548 non-null  object  \n",
      " 9   APARTMENT NUMBER                84548 non-null  object  \n",
      " 10  ZIP CODE                        84548 non-null  int64   \n",
      " 11  RESIDENTIAL UNITS               84548 non-null  int64   \n",
      " 12  COMMERCIAL UNITS                84548 non-null  int64   \n",
      " 13  TOTAL UNITS                     84548 non-null  int64   \n",
      " 14  LAND SQUARE FEET                84548 non-null  object  \n",
      " 15  GROSS SQUARE FEET               84548 non-null  object  \n",
      " 16  YEAR BUILT                      84548 non-null  int64   \n",
      " 17  TAX CLASS AT TIME OF SALE       84548 non-null  int64   \n",
      " 18  BUILDING CLASS AT TIME OF SALE  84548 non-null  object  \n",
      " 19  SALE PRICE                      84548 non-null  object  \n",
      " 20  SALE DATE                       84548 non-null  object  \n",
      "dtypes: category(1), int64(8), object(12)\n",
      "memory usage: 13.0+ MB\n"
     ]
    }
   ],
   "source": [
    "# converting Borough from Int64 to category.\n",
    "df['BOROUGH']=df['BOROUGH'].astype('category')\n",
    "df.info()\n"
   ]
  },
  {
   "cell_type": "code",
   "execution_count": 10,
   "id": "6d29a0a0",
   "metadata": {},
   "outputs": [
    {
     "data": {
      "text/plain": [
       "FLUSHING-NORTH              3068\n",
       "UPPER EAST SIDE (59-79)     1736\n",
       "UPPER EAST SIDE (79-96)     1590\n",
       "UPPER WEST SIDE (59-79)     1439\n",
       "BEDFORD STUYVESANT          1436\n",
       "                            ... \n",
       "FRESH KILLS                    2\n",
       "CITY ISLAND-PELHAM STRIP       1\n",
       "EAST RIVER                     1\n",
       "BRONX PARK                     1\n",
       "PELHAM BAY                     1\n",
       "Name: NEIGHBORHOOD, Length: 254, dtype: int64"
      ]
     },
     "execution_count": 10,
     "metadata": {},
     "output_type": "execute_result"
    }
   ],
   "source": [
    "#checking distinct values in Neighborhood\n",
    "df['NEIGHBORHOOD'].value_counts()\n"
   ]
  },
  {
   "cell_type": "code",
   "execution_count": 11,
   "id": "ef82fa2e",
   "metadata": {},
   "outputs": [],
   "source": [
    "#converting neighborhood to category\n",
    "df['NEIGHBORHOOD']=df['NEIGHBORHOOD'].astype('category')"
   ]
  },
  {
   "cell_type": "code",
   "execution_count": 12,
   "id": "17238bab",
   "metadata": {},
   "outputs": [
    {
     "data": {
      "text/plain": [
       "BOROUGH                               5\n",
       "NEIGHBORHOOD                        254\n",
       "BUILDING CLASS CATEGORY              47\n",
       "TAX CLASS AT PRESENT                 11\n",
       "BLOCK                             11566\n",
       "LOT                                2627\n",
       "EASE-MENT                             1\n",
       "BUILDING CLASS AT PRESENT           167\n",
       "ADDRESS                           67563\n",
       "APARTMENT NUMBER                   3989\n",
       "ZIP CODE                            186\n",
       "RESIDENTIAL UNITS                   176\n",
       "COMMERCIAL UNITS                     55\n",
       "TOTAL UNITS                         192\n",
       "LAND SQUARE FEET                   6062\n",
       "GROSS SQUARE FEET                  5691\n",
       "YEAR BUILT                          158\n",
       "TAX CLASS AT TIME OF SALE             4\n",
       "BUILDING CLASS AT TIME OF SALE      166\n",
       "SALE PRICE                        10008\n",
       "SALE DATE                           364\n",
       "dtype: int64"
      ]
     },
     "execution_count": 12,
     "metadata": {},
     "output_type": "execute_result"
    }
   ],
   "source": [
    "df.nunique(axis=0)"
   ]
  },
  {
   "cell_type": "code",
   "execution_count": 13,
   "id": "48f69ea7",
   "metadata": {},
   "outputs": [
    {
     "data": {
      "text/plain": [
       "01 ONE FAMILY DWELLINGS                         18235\n",
       "02 TWO FAMILY DWELLINGS                         15828\n",
       "13 CONDOS - ELEVATOR APARTMENTS                 12989\n",
       "10 COOPS - ELEVATOR APARTMENTS                  12902\n",
       "03 THREE FAMILY DWELLINGS                        4384\n",
       "07 RENTALS - WALKUP APARTMENTS                   3466\n",
       "09 COOPS - WALKUP APARTMENTS                     2767\n",
       "04 TAX CLASS 1 CONDOS                            1656\n",
       "44 CONDO PARKING                                 1441\n",
       "15 CONDOS - 2-10 UNIT RESIDENTIAL                1281\n",
       "05 TAX CLASS 1 VACANT LAND                       1248\n",
       "17 CONDO COOPS                                   1201\n",
       "22 STORE BUILDINGS                                935\n",
       "12 CONDOS - WALKUP APARTMENTS                     926\n",
       "14 RENTALS - 4-10 UNIT                            671\n",
       "29 COMMERCIAL GARAGES                             587\n",
       "43 CONDO OFFICE BUILDINGS                         475\n",
       "31 COMMERCIAL VACANT LAND                         463\n",
       "08 RENTALS - ELEVATOR APARTMENTS                  382\n",
       "47 CONDO NON-BUSINESS STORAGE                     377\n",
       "21 OFFICE BUILDINGS                               350\n",
       "30 WAREHOUSES                                     326\n",
       "45 CONDO HOTELS                                   211\n",
       "27 FACTORIES                                      201\n",
       "06 TAX CLASS 1 - OTHER                            182\n",
       "41 TAX CLASS 4 - OTHER                            158\n",
       "46 CONDO STORE BUILDINGS                          154\n",
       "26 OTHER HOTELS                                   114\n",
       "37 RELIGIOUS FACILITIES                           100\n",
       "16 CONDOS - 2-10 UNIT WITH COMMERCIAL UNIT         96\n",
       "33 EDUCATIONAL FACILITIES                          69\n",
       "32 HOSPITAL AND HEALTH FACILITIES                  59\n",
       "48 CONDO TERRACES/GARDENS/CABANAS                  47\n",
       "23 LOFT BUILDINGS                                  46\n",
       "11A CONDO-RENTALS                                  43\n",
       "35 INDOOR PUBLIC AND CULTURAL FACILITIES           32\n",
       "28 COMMERCIAL CONDOS                               30\n",
       "49 CONDO WAREHOUSES/FACTORY/INDUS                  30\n",
       "38 ASYLUMS AND HOMES                               25\n",
       "36 OUTDOOR RECREATIONAL FACILITIES                 14\n",
       "42 CONDO CULTURAL/MEDICAL/EDUCATIONAL/ETC          13\n",
       "25 LUXURY HOTELS                                   12\n",
       "34 THEATRES                                        12\n",
       "18 TAX CLASS 3 - UNTILITY PROPERTIES                4\n",
       "40 SELECTED GOVERNMENTAL FACILITIES                 2\n",
       "11 SPECIAL CONDO BILLING LOTS                       2\n",
       "39 TRANSPORTATION FACILITIES                        2\n",
       "Name: BUILDING CLASS CATEGORY, dtype: int64"
      ]
     },
     "execution_count": 13,
     "metadata": {},
     "output_type": "execute_result"
    }
   ],
   "source": [
    "#checking distinct values in Building Class Category\n",
    "df['BUILDING CLASS CATEGORY'].value_counts()"
   ]
  },
  {
   "cell_type": "code",
   "execution_count": 14,
   "id": "23e733d0",
   "metadata": {},
   "outputs": [],
   "source": [
    "#converting Building Class Category to Category\n",
    "df['BUILDING CLASS CATEGORY']=df['BUILDING CLASS CATEGORY'].astype('category')\n"
   ]
  },
  {
   "cell_type": "code",
   "execution_count": 15,
   "id": "74fb6d14",
   "metadata": {},
   "outputs": [
    {
     "data": {
      "text/plain": [
       "1     38633\n",
       "2     30919\n",
       "4      6140\n",
       "2A     2521\n",
       "2C     1915\n",
       "1A     1444\n",
       "1B     1234\n",
       "2B      814\n",
       "        738\n",
       "1C      186\n",
       "3         4\n",
       "Name: TAX CLASS AT PRESENT, dtype: int64"
      ]
     },
     "execution_count": 15,
     "metadata": {},
     "output_type": "execute_result"
    }
   ],
   "source": [
    "#checking distinct values in Tax Class\n",
    "df['TAX CLASS AT PRESENT'].value_counts()"
   ]
  },
  {
   "cell_type": "code",
   "execution_count": 16,
   "id": "587443d3",
   "metadata": {},
   "outputs": [
    {
     "data": {
      "text/plain": [
       "Class 1    41497\n",
       "Class 2    36169\n",
       "Class 4     6140\n",
       "             738\n",
       "Class 3        4\n",
       "Name: TAX CLASS AT PRESENT, dtype: int64"
      ]
     },
     "execution_count": 16,
     "metadata": {},
     "output_type": "execute_result"
    }
   ],
   "source": [
    "# replacing subclasses with parent classes\n",
    "df['TAX CLASS AT PRESENT']=df['TAX CLASS AT PRESENT'].replace({'1A':'Class 1','1C':'Class 1','1B':'Class 1','2A':'Class 2','2C':'Class 2','2B':'Class 2'})\n",
    "df['TAX CLASS AT PRESENT'].value_counts()\n",
    "# replacing with class labels\n",
    "df['TAX CLASS AT PRESENT']=df['TAX CLASS AT PRESENT'].replace({'1':'Class 1','2':'Class 2','3':'Class 3','4':'Class 4'})\n",
    "df['TAX CLASS AT PRESENT'].value_counts()"
   ]
  },
  {
   "cell_type": "code",
   "execution_count": 17,
   "id": "bc132431",
   "metadata": {},
   "outputs": [
    {
     "data": {
      "text/plain": [
       "738"
      ]
     },
     "execution_count": 17,
     "metadata": {},
     "output_type": "execute_result"
    }
   ],
   "source": [
    "#counting total blank values\n",
    "l=[]\n",
    "for i in range(len(df)):\n",
    "    if (df['TAX CLASS AT PRESENT'][i]!='Class 1') and (df['TAX CLASS AT PRESENT'][i]!='Class 2') and (df['TAX CLASS AT PRESENT'][i]!='Class 3') and (df['TAX CLASS AT PRESENT'][i]!='Class 4'):\n",
    "        l.append(df['TAX CLASS AT PRESENT'][i])\n",
    "    else:\n",
    "        pass\n",
    "    \n",
    "len(l)"
   ]
  },
  {
   "cell_type": "code",
   "execution_count": 18,
   "id": "b3a36dd2",
   "metadata": {},
   "outputs": [
    {
     "data": {
      "text/plain": [
       "738"
      ]
     },
     "execution_count": 18,
     "metadata": {},
     "output_type": "execute_result"
    }
   ],
   "source": [
    "#making blanks as NAN\n",
    "df['TAX CLASS AT PRESENT']=df['TAX CLASS AT PRESENT'].replace({\" \":np.nan})\n",
    "df['TAX CLASS AT PRESENT'].isnull().sum()"
   ]
  },
  {
   "cell_type": "code",
   "execution_count": 19,
   "id": "65f61c6b",
   "metadata": {},
   "outputs": [
    {
     "data": {
      "text/plain": [
       "Class 1    41527\n",
       "Class 2    36742\n",
       "Class 4     6275\n",
       "Class 3        4\n",
       "Name: TAX CLASS AT PRESENT, dtype: int64"
      ]
     },
     "execution_count": 19,
     "metadata": {},
     "output_type": "execute_result"
    }
   ],
   "source": [
    "#refilling NAN with backwardfill method\n",
    "df['TAX CLASS AT PRESENT']=df['TAX CLASS AT PRESENT'].fillna(method='bfill')\n",
    "df['TAX CLASS AT PRESENT'].value_counts()"
   ]
  },
  {
   "cell_type": "code",
   "execution_count": 20,
   "id": "1c6875c4",
   "metadata": {},
   "outputs": [],
   "source": [
    "df['TAX CLASS AT PRESENT']=df['TAX CLASS AT PRESENT'].astype('category')"
   ]
  },
  {
   "cell_type": "code",
   "execution_count": 21,
   "id": "e9fa602f",
   "metadata": {},
   "outputs": [
    {
     "data": {
      "text/plain": [
       "<AxesSubplot:ylabel='Density'>"
      ]
     },
     "execution_count": 21,
     "metadata": {},
     "output_type": "execute_result"
    },
    {
     "data": {
      "image/png": "[encoded data removed]",
      "text/plain": [
       "<Figure size 432x288 with 1 Axes>"
      ]
     },
     "metadata": {
      "needs_background": "light"
     },
     "output_type": "display_data"
    }
   ],
   "source": [
    "df['BLOCK'].plot(kind='kde')"
   ]
  },
  {
   "cell_type": "code",
   "execution_count": 22,
   "id": "cdc144d6",
   "metadata": {},
   "outputs": [
    {
     "data": {
      "text/plain": [
       "array([[<AxesSubplot:title={'center':'BLOCK'}>]], dtype=object)"
      ]
     },
     "execution_count": 22,
     "metadata": {},
     "output_type": "execute_result"
    },
    {
     "data": {
      "image/png": "[encoded data removed]",
      "text/plain": [
       "<Figure size 432x288 with 1 Axes>"
      ]
     },
     "metadata": {
      "needs_background": "light"
     },
     "output_type": "display_data"
    }
   ],
   "source": [
    "df.hist('BLOCK')"
   ]
  },
  {
   "cell_type": "code",
   "execution_count": 23,
   "id": "3b53de3e",
   "metadata": {},
   "outputs": [
    {
     "data": {
      "text/plain": [
       "5066     404\n",
       "16       255\n",
       "2135     211\n",
       "4978     187\n",
       "1171     181\n",
       "        ... \n",
       "9513       1\n",
       "15658      1\n",
       "11624      1\n",
       "9577       1\n",
       "2047       1\n",
       "Name: BLOCK, Length: 11566, dtype: int64"
      ]
     },
     "execution_count": 23,
     "metadata": {},
     "output_type": "execute_result"
    }
   ],
   "source": [
    "df['BLOCK'].value_counts()\n"
   ]
  },
  {
   "cell_type": "code",
   "execution_count": 24,
   "id": "bcf34ed2",
   "metadata": {},
   "outputs": [
    {
     "data": {
      "text/plain": [
       "1       4125\n",
       "20       983\n",
       "12       972\n",
       "40       935\n",
       "23       911\n",
       "        ... \n",
       "2097       1\n",
       "801        1\n",
       "2848       1\n",
       "4771       1\n",
       "3224       1\n",
       "Name: LOT, Length: 2627, dtype: int64"
      ]
     },
     "execution_count": 24,
     "metadata": {},
     "output_type": "execute_result"
    },
    {
     "data": {
      "image/png": "[encoded data removed]",
      "text/plain": [
       "<Figure size 432x288 with 1 Axes>"
      ]
     },
     "metadata": {
      "needs_background": "light"
     },
     "output_type": "display_data"
    },
    {
     "data": {
      "image/png": "[encoded data removed]",
      "text/plain": [
       "<Figure size 432x288 with 1 Axes>"
      ]
     },
     "metadata": {
      "needs_background": "light"
     },
     "output_type": "display_data"
    }
   ],
   "source": [
    "df['LOT'].plot(kind='kde')\n",
    "df.hist('LOT')\n",
    "df['LOT'].value_counts()"
   ]
  },
  {
   "cell_type": "code",
   "execution_count": 25,
   "id": "f7d92c2e",
   "metadata": {},
   "outputs": [
    {
     "data": {
      "text/plain": [
       "     84548\n",
       "Name: EASE-MENT, dtype: int64"
      ]
     },
     "execution_count": 25,
     "metadata": {},
     "output_type": "execute_result"
    }
   ],
   "source": [
    "df['EASE-MENT'].value_counts()"
   ]
  },
  {
   "cell_type": "code",
   "execution_count": 26,
   "id": "f7029fe7",
   "metadata": {},
   "outputs": [],
   "source": [
    "#dropping Ease-ment as it has zero records and we dont have any relevant information about it.\n",
    "df=df.drop('EASE-MENT',axis=1)"
   ]
  },
  {
   "cell_type": "code",
   "execution_count": 27,
   "id": "5145c5dc",
   "metadata": {},
   "outputs": [
    {
     "name": "stdout",
     "output_type": "stream",
     "text": [
      "<class 'pandas.core.frame.DataFrame'>\n",
      "RangeIndex: 84548 entries, 0 to 84547\n",
      "Data columns (total 20 columns):\n",
      " #   Column                          Non-Null Count  Dtype   \n",
      "---  ------                          --------------  -----   \n",
      " 0   BOROUGH                         84548 non-null  category\n",
      " 1   NEIGHBORHOOD                    84548 non-null  category\n",
      " 2   BUILDING CLASS CATEGORY         84548 non-null  category\n",
      " 3   TAX CLASS AT PRESENT            84548 non-null  category\n",
      " 4   BLOCK                           84548 non-null  int64   \n",
      " 5   LOT                             84548 non-null  int64   \n",
      " 6   BUILDING CLASS AT PRESENT       84548 non-null  object  \n",
      " 7   ADDRESS                         84548 non-null  object  \n",
      " 8   APARTMENT NUMBER                84548 non-null  object  \n",
      " 9   ZIP CODE                        84548 non-null  int64   \n",
      " 10  RESIDENTIAL UNITS               84548 non-null  int64   \n",
      " 11  COMMERCIAL UNITS                84548 non-null  int64   \n",
      " 12  TOTAL UNITS                     84548 non-null  int64   \n",
      " 13  LAND SQUARE FEET                84548 non-null  object  \n",
      " 14  GROSS SQUARE FEET               84548 non-null  object  \n",
      " 15  YEAR BUILT                      84548 non-null  int64   \n",
      " 16  TAX CLASS AT TIME OF SALE       84548 non-null  int64   \n",
      " 17  BUILDING CLASS AT TIME OF SALE  84548 non-null  object  \n",
      " 18  SALE PRICE                      84548 non-null  object  \n",
      " 19  SALE DATE                       84548 non-null  object  \n",
      "dtypes: category(4), int64(8), object(8)\n",
      "memory usage: 10.7+ MB\n"
     ]
    }
   ],
   "source": [
    "df.info()"
   ]
  },
  {
   "cell_type": "code",
   "execution_count": 28,
   "id": "a6a31b4f",
   "metadata": {},
   "outputs": [
    {
     "data": {
      "text/plain": [
       "D4    12663\n",
       "R4    12482\n",
       "A1     6753\n",
       "A5     5683\n",
       "B2     4923\n",
       "      ...  \n",
       "I3        1\n",
       "Y1        1\n",
       "K8        1\n",
       "Q8        1\n",
       "Z7        1\n",
       "Name: BUILDING CLASS AT PRESENT, Length: 167, dtype: int64"
      ]
     },
     "execution_count": 28,
     "metadata": {},
     "output_type": "execute_result"
    }
   ],
   "source": [
    "df['BUILDING CLASS AT PRESENT'].value_counts()"
   ]
  },
  {
   "cell_type": "code",
   "execution_count": 29,
   "id": "ef9cd98a",
   "metadata": {},
   "outputs": [
    {
     "data": {
      "text/plain": [
       "131-05 40TH   ROAD        210\n",
       "429 KENT AVENUE           158\n",
       "169 WEST 95TH   STREET    153\n",
       "131-03 40TH   ROAD        147\n",
       "265 STATE STREET          127\n",
       "                         ... \n",
       "2323 1 AVENUE               1\n",
       "1055 EAST 34TH STREET       1\n",
       "548 KOSCIUSZKO STREET       1\n",
       "2239 TROY AVENUE, 3K        1\n",
       "78-19 PITKIN AVENUE         1\n",
       "Name: ADDRESS, Length: 67563, dtype: int64"
      ]
     },
     "execution_count": 29,
     "metadata": {},
     "output_type": "execute_result"
    }
   ],
   "source": [
    "df['ADDRESS'].value_counts()"
   ]
  },
  {
   "cell_type": "code",
   "execution_count": 30,
   "id": "68abf25f",
   "metadata": {},
   "outputs": [],
   "source": [
    "# dropping address as we have considered other factors having information about properties location\n",
    "df=df.drop('ADDRESS',axis=1)"
   ]
  },
  {
   "cell_type": "code",
   "execution_count": 31,
   "id": "ef5e1d06",
   "metadata": {},
   "outputs": [
    {
     "data": {
      "text/plain": [
       "Index(['BOROUGH', 'NEIGHBORHOOD', 'BUILDING CLASS CATEGORY',\n",
       "       'TAX CLASS AT PRESENT', 'BLOCK', 'LOT', 'BUILDING CLASS AT PRESENT',\n",
       "       'APARTMENT NUMBER', 'ZIP CODE', 'RESIDENTIAL UNITS', 'COMMERCIAL UNITS',\n",
       "       'TOTAL UNITS', 'LAND SQUARE FEET', 'GROSS SQUARE FEET', 'YEAR BUILT',\n",
       "       'TAX CLASS AT TIME OF SALE', 'BUILDING CLASS AT TIME OF SALE',\n",
       "       'SALE PRICE', 'SALE DATE'],\n",
       "      dtype='object')"
      ]
     },
     "execution_count": 31,
     "metadata": {},
     "output_type": "execute_result"
    }
   ],
   "source": [
    "df.columns"
   ]
  },
  {
   "cell_type": "code",
   "execution_count": 32,
   "id": "57d6bd6f",
   "metadata": {},
   "outputs": [
    {
     "data": {
      "text/plain": [
       "        65496\n",
       "4         298\n",
       "3A        295\n",
       "3B        275\n",
       "2         275\n",
       "        ...  \n",
       "4040        1\n",
       "15T         1\n",
       "PS26        1\n",
       "14Z1        1\n",
       "8 N         1\n",
       "Name: APARTMENT NUMBER, Length: 3989, dtype: int64"
      ]
     },
     "execution_count": 32,
     "metadata": {},
     "output_type": "execute_result"
    }
   ],
   "source": [
    "df['APARTMENT NUMBER'].value_counts()"
   ]
  },
  {
   "cell_type": "code",
   "execution_count": 33,
   "id": "2f84bf1a",
   "metadata": {},
   "outputs": [],
   "source": [
    "# dropping apart number as w have around 65000 null values in this column.\n",
    "df=df.drop('APARTMENT NUMBER',axis=1)"
   ]
  },
  {
   "cell_type": "code",
   "execution_count": 34,
   "id": "6b848820",
   "metadata": {},
   "outputs": [
    {
     "data": {
      "text/plain": [
       "<AxesSubplot:ylabel='Density'>"
      ]
     },
     "execution_count": 34,
     "metadata": {},
     "output_type": "execute_result"
    },
    {
     "data": {
      "image/png": "[encoded data removed]",
      "text/plain": [
       "<Figure size 432x288 with 1 Axes>"
      ]
     },
     "metadata": {
      "needs_background": "light"
     },
     "output_type": "display_data"
    }
   ],
   "source": [
    "df['ZIP CODE'].plot(kind='kde')"
   ]
  },
  {
   "cell_type": "code",
   "execution_count": 35,
   "id": "b9b052f8",
   "metadata": {},
   "outputs": [
    {
     "data": {
      "text/plain": [
       "array([[<AxesSubplot:title={'center':'RESIDENTIAL UNITS'}>]], dtype=object)"
      ]
     },
     "execution_count": 35,
     "metadata": {},
     "output_type": "execute_result"
    },
    {
     "data": {
      "image/png": "[encoded data removed]",
      "text/plain": [
       "<Figure size 432x288 with 1 Axes>"
      ]
     },
     "metadata": {
      "needs_background": "light"
     },
     "output_type": "display_data"
    },
    {
     "data": {
      "image/png": "[encoded data removed]",
      "text/plain": [
       "<Figure size 432x288 with 1 Axes>"
      ]
     },
     "metadata": {
      "needs_background": "light"
     },
     "output_type": "display_data"
    }
   ],
   "source": [
    "df['RESIDENTIAL UNITS'].plot(kind='kde')\n",
    "df.hist('RESIDENTIAL UNITS')\n"
   ]
  },
  {
   "cell_type": "code",
   "execution_count": 36,
   "id": "a8dc95b6",
   "metadata": {},
   "outputs": [
    {
     "data": {
      "text/plain": [
       "0       79429\n",
       "1        3558\n",
       "2         817\n",
       "3         259\n",
       "4         137\n",
       "5          74\n",
       "6          70\n",
       "7          31\n",
       "8          26\n",
       "9          20\n",
       "10         17\n",
       "12         12\n",
       "15         11\n",
       "11         10\n",
       "14          6\n",
       "17          6\n",
       "13          4\n",
       "20          4\n",
       "254         4\n",
       "35          4\n",
       "19          3\n",
       "42          3\n",
       "18          3\n",
       "22          3\n",
       "126         2\n",
       "436         2\n",
       "26          2\n",
       "422         2\n",
       "16          2\n",
       "25          2\n",
       "56          1\n",
       "184         1\n",
       "59          1\n",
       "55          1\n",
       "52          1\n",
       "51          1\n",
       "49          1\n",
       "172         1\n",
       "62          1\n",
       "23          1\n",
       "38          1\n",
       "34          1\n",
       "32          1\n",
       "31          1\n",
       "30          1\n",
       "28          1\n",
       "91          1\n",
       "27          1\n",
       "24          1\n",
       "21          1\n",
       "2261        1\n",
       "147         1\n",
       "73          1\n",
       "67          1\n",
       "318         1\n",
       "Name: COMMERCIAL UNITS, dtype: int64"
      ]
     },
     "execution_count": 36,
     "metadata": {},
     "output_type": "execute_result"
    },
    {
     "data": {
      "image/png": "[encoded data removed]",
      "text/plain": [
       "<Figure size 432x288 with 1 Axes>"
      ]
     },
     "metadata": {
      "needs_background": "light"
     },
     "output_type": "display_data"
    }
   ],
   "source": [
    "df['COMMERCIAL UNITS'].plot(kind='kde')\n",
    "df['COMMERCIAL UNITS'].value_counts()"
   ]
  },
  {
   "cell_type": "code",
   "execution_count": 37,
   "id": "c4c1407b",
   "metadata": {},
   "outputs": [
    {
     "data": {
      "text/plain": [
       "<AxesSubplot:ylabel='Density'>"
      ]
     },
     "execution_count": 37,
     "metadata": {},
     "output_type": "execute_result"
    },
    {
     "data": {
      "image/png": "[encoded data removed]",
      "text/plain": [
       "<Figure size 432x288 with 1 Axes>"
      ]
     },
     "metadata": {
      "needs_background": "light"
     },
     "output_type": "display_data"
    }
   ],
   "source": [
    "df['TOTAL UNITS'].plot(kind='kde')"
   ]
  },
  {
   "cell_type": "code",
   "execution_count": 38,
   "id": "ee69695e",
   "metadata": {},
   "outputs": [
    {
     "data": {
      "text/plain": [
       " -       26252\n",
       "0        10326\n",
       "2000      3919\n",
       "2500      3470\n",
       "4000      3044\n",
       "         ...  \n",
       "5233         1\n",
       "15085        1\n",
       "2699         1\n",
       "18492        1\n",
       "42762        1\n",
       "Name: LAND SQUARE FEET, Length: 6062, dtype: int64"
      ]
     },
     "execution_count": 38,
     "metadata": {},
     "output_type": "execute_result"
    }
   ],
   "source": [
    "df['LAND SQUARE FEET'].value_counts()"
   ]
  },
  {
   "cell_type": "code",
   "execution_count": 39,
   "id": "ed95f911",
   "metadata": {},
   "outputs": [
    {
     "name": "stderr",
     "output_type": "stream",
     "text": [
      "<ipython-input-39-2f91dab132fa>:3: SettingWithCopyWarning: \n",
      "A value is trying to be set on a copy of a slice from a DataFrame\n",
      "\n",
      "See the caveats in the documentation: https://pandas.pydata.org/pandas-docs/stable/user_guide/indexing.html#returning-a-view-versus-a-copy\n",
      "  df['LAND SQUARE FEET'][i]=np.nan\n"
     ]
    },
    {
     "data": {
      "text/plain": [
       "0        10326\n",
       "2000      3919\n",
       "2500      3470\n",
       "4000      3044\n",
       "1800      1192\n",
       "         ...  \n",
       "5233         1\n",
       "15085        1\n",
       "18492        1\n",
       "2699         1\n",
       "4302         1\n",
       "Name: LAND SQUARE FEET, Length: 6061, dtype: int64"
      ]
     },
     "execution_count": 39,
     "metadata": {},
     "output_type": "execute_result"
    }
   ],
   "source": [
    "for i in range(len(df)):\n",
    "    if df['LAND SQUARE FEET'][i]==' -  ':\n",
    "        df['LAND SQUARE FEET'][i]=np.nan\n",
    "    else:\n",
    "        pass\n",
    "df['LAND SQUARE FEET'].value_counts()"
   ]
  },
  {
   "cell_type": "code",
   "execution_count": 40,
   "id": "82524a1d",
   "metadata": {},
   "outputs": [
    {
     "data": {
      "text/plain": [
       "3941.675775     26252\n",
       "0.000000        10326\n",
       "2000.000000      3919\n",
       "2500.000000      3470\n",
       "4000.000000      3044\n",
       "                ...  \n",
       "7047.000000         1\n",
       "24056.000000        1\n",
       "7067.000000         1\n",
       "1532.000000         1\n",
       "11236.000000        1\n",
       "Name: LAND SQUARE FEET, Length: 6062, dtype: int64"
      ]
     },
     "execution_count": 40,
     "metadata": {},
     "output_type": "execute_result"
    }
   ],
   "source": [
    "df['LAND SQUARE FEET']=df['LAND SQUARE FEET'].astype('float64')\n",
    "df['LAND SQUARE FEET']=df['LAND SQUARE FEET'].fillna(df['LAND SQUARE FEET'].mean())\n",
    "df['LAND SQUARE FEET'].value_counts()"
   ]
  },
  {
   "cell_type": "code",
   "execution_count": 41,
   "id": "e80e0528",
   "metadata": {},
   "outputs": [
    {
     "name": "stderr",
     "output_type": "stream",
     "text": [
      "<ipython-input-41-0b3f2045db35>:4: SettingWithCopyWarning: \n",
      "A value is trying to be set on a copy of a slice from a DataFrame\n",
      "\n",
      "See the caveats in the documentation: https://pandas.pydata.org/pandas-docs/stable/user_guide/indexing.html#returning-a-view-versus-a-copy\n",
      "  df['GROSS SQUARE FEET'][i]=np.nan\n"
     ]
    },
    {
     "data": {
      "text/plain": [
       "4045.707479     27612\n",
       "0.000000        11417\n",
       "2400.000000       386\n",
       "1800.000000       361\n",
       "2000.000000       359\n",
       "                ...  \n",
       "2623.000000         1\n",
       "3275.000000         1\n",
       "3459.000000         1\n",
       "5033.000000         1\n",
       "18750.000000        1\n",
       "Name: GROSS SQUARE FEET, Length: 5691, dtype: int64"
      ]
     },
     "execution_count": 41,
     "metadata": {},
     "output_type": "execute_result"
    }
   ],
   "source": [
    "df['GROSS SQUARE FEET'].value_counts()\n",
    "for i in range(len(df)):\n",
    "    if df['GROSS SQUARE FEET'][i]==' -  ':\n",
    "        df['GROSS SQUARE FEET'][i]=np.nan\n",
    "    else:\n",
    "        pass\n",
    "df['GROSS SQUARE FEET']=df['GROSS SQUARE FEET'].astype('float64')\n",
    "df['GROSS SQUARE FEET']=df['GROSS SQUARE FEET'].fillna(df['GROSS SQUARE FEET'].mean())\n",
    "df['GROSS SQUARE FEET'].value_counts()"
   ]
  },
  {
   "cell_type": "code",
   "execution_count": 42,
   "id": "414b1108",
   "metadata": {},
   "outputs": [
    {
     "data": {
      "text/plain": [
       "0       6970\n",
       "1920    6045\n",
       "1930    5043\n",
       "1925    4312\n",
       "1910    3585\n",
       "        ... \n",
       "1826       1\n",
       "1829       1\n",
       "1855       1\n",
       "1832       1\n",
       "1849       1\n",
       "Name: YEAR BUILT, Length: 158, dtype: int64"
      ]
     },
     "execution_count": 42,
     "metadata": {},
     "output_type": "execute_result"
    }
   ],
   "source": [
    "df['YEAR BUILT'].value_counts()"
   ]
  },
  {
   "cell_type": "code",
   "execution_count": 43,
   "id": "fc949652",
   "metadata": {},
   "outputs": [
    {
     "data": {
      "text/plain": [
       "1920.0    6353\n",
       "1930.0    5290\n",
       "1925.0    4437\n",
       "1910.0    3809\n",
       "1950.0    3524\n",
       "          ... \n",
       "1888.0       1\n",
       "1826.0       1\n",
       "1829.0       1\n",
       "1855.0       1\n",
       "1849.0       1\n",
       "Name: YEAR BUILT, Length: 157, dtype: int64"
      ]
     },
     "execution_count": 43,
     "metadata": {},
     "output_type": "execute_result"
    }
   ],
   "source": [
    "    # fillig all the records having year built '0' using backwad fill method.\n",
    "    df['YEAR BUILT']=df['YEAR BUILT'].astype('object')\n",
    "    df['YEAR BUILT']=df['YEAR BUILT'].replace({0:np.nan})\n",
    "    df['YEAR BUILT']=df['YEAR BUILT'].fillna(method='bfill')\n",
    "    df['YEAR BUILT'].value_counts()"
   ]
  },
  {
   "cell_type": "code",
   "execution_count": 44,
   "id": "f47ea995",
   "metadata": {},
   "outputs": [
    {
     "data": {
      "text/plain": [
       "1920    6353\n",
       "1930    5290\n",
       "1925    4437\n",
       "1910    3809\n",
       "1950    3524\n",
       "        ... \n",
       "1829       1\n",
       "1111       1\n",
       "1680       1\n",
       "1849       1\n",
       "1888       1\n",
       "Name: YEAR BUILT, Length: 157, dtype: int64"
      ]
     },
     "execution_count": 44,
     "metadata": {},
     "output_type": "execute_result"
    }
   ],
   "source": [
    "df['YEAR BUILT']=df['YEAR BUILT'].astype('int64')\n",
    "df['YEAR BUILT'].value_counts()"
   ]
  },
  {
   "cell_type": "code",
   "execution_count": 45,
   "id": "7fca3e69",
   "metadata": {},
   "outputs": [
    {
     "data": {
      "text/plain": [
       "1    41533\n",
       "2    36726\n",
       "4     6285\n",
       "3        4\n",
       "Name: TAX CLASS AT TIME OF SALE, dtype: int64"
      ]
     },
     "execution_count": 45,
     "metadata": {},
     "output_type": "execute_result"
    }
   ],
   "source": [
    "df['TAX CLASS AT TIME OF SALE'].value_counts()"
   ]
  },
  {
   "cell_type": "code",
   "execution_count": 46,
   "id": "4bfc0311",
   "metadata": {},
   "outputs": [
    {
     "data": {
      "text/plain": [
       "Class 1    41533\n",
       "Class 2    36726\n",
       "Class 4     6285\n",
       "Class 3        4\n",
       "Name: TAX CLASS AT TIME OF SALE, dtype: int64"
      ]
     },
     "execution_count": 46,
     "metadata": {},
     "output_type": "execute_result"
    }
   ],
   "source": [
    "df['TAX CLASS AT TIME OF SALE']=df['TAX CLASS AT TIME OF SALE'].replace({1:'Class 1',2:'Class 2',3:'Class 3',4:'Class 4'})\n",
    "df['TAX CLASS AT TIME OF SALE'].value_counts()"
   ]
  },
  {
   "cell_type": "code",
   "execution_count": 47,
   "id": "206436c0",
   "metadata": {},
   "outputs": [
    {
     "data": {
      "text/plain": [
       "R4    12989\n",
       "D4    12666\n",
       "A1     6751\n",
       "A5     5671\n",
       "B2     4918\n",
       "      ...  \n",
       "R7        1\n",
       "K8        1\n",
       "Y3        1\n",
       "CM        1\n",
       "HH        1\n",
       "Name: BUILDING CLASS AT TIME OF SALE, Length: 166, dtype: int64"
      ]
     },
     "execution_count": 47,
     "metadata": {},
     "output_type": "execute_result"
    }
   ],
   "source": [
    "df['BUILDING CLASS AT TIME OF SALE'].value_counts()"
   ]
  },
  {
   "cell_type": "code",
   "execution_count": 48,
   "id": "396020c8",
   "metadata": {},
   "outputs": [
    {
     "data": {
      "text/plain": [
       " -          14561\n",
       "0           10228\n",
       "10            766\n",
       "450000        427\n",
       "550000        416\n",
       "            ...  \n",
       "417768          1\n",
       "20800000        1\n",
       "2690374         1\n",
       "1867625         1\n",
       "633500          1\n",
       "Name: SALE PRICE, Length: 10008, dtype: int64"
      ]
     },
     "execution_count": 48,
     "metadata": {},
     "output_type": "execute_result"
    }
   ],
   "source": [
    "df['SALE PRICE'].value_counts()"
   ]
  },
  {
   "cell_type": "code",
   "execution_count": 49,
   "id": "1395cee3",
   "metadata": {},
   "outputs": [
    {
     "name": "stderr",
     "output_type": "stream",
     "text": [
      "<ipython-input-49-f05e18815468>:3: SettingWithCopyWarning: \n",
      "A value is trying to be set on a copy of a slice from a DataFrame\n",
      "\n",
      "See the caveats in the documentation: https://pandas.pydata.org/pandas-docs/stable/user_guide/indexing.html#returning-a-view-versus-a-copy\n",
      "  df['SALE PRICE'][i]=np.nan\n"
     ]
    }
   ],
   "source": [
    "for i in range(len(df)):\n",
    "    if df['SALE PRICE'][i]==' -  ':\n",
    "        df['SALE PRICE'][i]=np.nan\n",
    "    else:\n",
    "        pass"
   ]
  },
  {
   "cell_type": "code",
   "execution_count": 50,
   "id": "12fd8461",
   "metadata": {},
   "outputs": [],
   "source": [
    "df['SALE PRICE']=df['SALE PRICE'].astype('float')"
   ]
  },
  {
   "cell_type": "code",
   "execution_count": 51,
   "id": "09a651dd",
   "metadata": {},
   "outputs": [],
   "source": [
    "df['SALE DATE']=df['SALE DATE'].astype('datetime64[ns]')"
   ]
  },
  {
   "cell_type": "code",
   "execution_count": 52,
   "id": "32496566",
   "metadata": {},
   "outputs": [
    {
     "data": {
      "text/plain": [
       "2017-06-29    544\n",
       "2017-06-15    530\n",
       "2016-12-22    527\n",
       "2017-05-25    511\n",
       "2016-10-06    508\n",
       "             ... \n",
       "2016-11-27      2\n",
       "2017-07-09      2\n",
       "2017-01-08      2\n",
       "2017-08-13      1\n",
       "2017-06-04      1\n",
       "Name: SALE DATE, Length: 364, dtype: int64"
      ]
     },
     "execution_count": 52,
     "metadata": {},
     "output_type": "execute_result"
    }
   ],
   "source": [
    "df['SALE DATE'].value_counts()"
   ]
  },
  {
   "cell_type": "code",
   "execution_count": 53,
   "id": "3ddcc987",
   "metadata": {},
   "outputs": [
    {
     "name": "stdout",
     "output_type": "stream",
     "text": [
      "<class 'pandas.core.frame.DataFrame'>\n",
      "RangeIndex: 84548 entries, 0 to 84547\n",
      "Data columns (total 20 columns):\n",
      " #   Column                          Non-Null Count  Dtype         \n",
      "---  ------                          --------------  -----         \n",
      " 0   BOROUGH                         84548 non-null  category      \n",
      " 1   NEIGHBORHOOD                    84548 non-null  category      \n",
      " 2   BUILDING CLASS CATEGORY         84548 non-null  category      \n",
      " 3   TAX CLASS AT PRESENT            84548 non-null  category      \n",
      " 4   BLOCK                           84548 non-null  int64         \n",
      " 5   LOT                             84548 non-null  int64         \n",
      " 6   BUILDING CLASS AT PRESENT       84548 non-null  object        \n",
      " 7   ZIP CODE                        84548 non-null  int64         \n",
      " 8   RESIDENTIAL UNITS               84548 non-null  int64         \n",
      " 9   COMMERCIAL UNITS                84548 non-null  int64         \n",
      " 10  TOTAL UNITS                     84548 non-null  int64         \n",
      " 11  LAND SQUARE FEET                84548 non-null  float64       \n",
      " 12  GROSS SQUARE FEET               84548 non-null  float64       \n",
      " 13  YEAR BUILT                      84548 non-null  int64         \n",
      " 14  TAX CLASS AT TIME OF SALE       84548 non-null  object        \n",
      " 15  BUILDING CLASS AT TIME OF SALE  84548 non-null  object        \n",
      " 16  SALE PRICE                      69987 non-null  float64       \n",
      " 17  SALE DATE                       84548 non-null  datetime64[ns]\n",
      " 18  SALE YEAR                       84548 non-null  int64         \n",
      " 19  SALE MONTH                      84548 non-null  int64         \n",
      "dtypes: category(4), datetime64[ns](1), float64(3), int64(9), object(3)\n",
      "memory usage: 10.7+ MB\n"
     ]
    }
   ],
   "source": [
    "df['SALE YEAR']=pd.DatetimeIndex(df['SALE DATE']).year\n",
    "df['SALE MONTH']=pd.DatetimeIndex(df['SALE DATE']).month\n",
    "df.info()"
   ]
  },
  {
   "cell_type": "code",
   "execution_count": 54,
   "id": "11622870",
   "metadata": {},
   "outputs": [],
   "source": [
    "df=df.drop('SALE DATE',axis=1)"
   ]
  },
  {
   "cell_type": "code",
   "execution_count": 55,
   "id": "626d3abf",
   "metadata": {},
   "outputs": [
    {
     "name": "stdout",
     "output_type": "stream",
     "text": [
      "<class 'pandas.core.frame.DataFrame'>\n",
      "RangeIndex: 84548 entries, 0 to 84547\n",
      "Data columns (total 19 columns):\n",
      " #   Column                          Non-Null Count  Dtype   \n",
      "---  ------                          --------------  -----   \n",
      " 0   BOROUGH                         84548 non-null  category\n",
      " 1   NEIGHBORHOOD                    84548 non-null  category\n",
      " 2   BUILDING CLASS CATEGORY         84548 non-null  category\n",
      " 3   TAX CLASS AT PRESENT            84548 non-null  category\n",
      " 4   BLOCK                           84548 non-null  int64   \n",
      " 5   LOT                             84548 non-null  int64   \n",
      " 6   BUILDING CLASS AT PRESENT       84548 non-null  object  \n",
      " 7   ZIP CODE                        84548 non-null  int64   \n",
      " 8   RESIDENTIAL UNITS               84548 non-null  int64   \n",
      " 9   COMMERCIAL UNITS                84548 non-null  int64   \n",
      " 10  TOTAL UNITS                     84548 non-null  int64   \n",
      " 11  LAND SQUARE FEET                84548 non-null  float64 \n",
      " 12  GROSS SQUARE FEET               84548 non-null  float64 \n",
      " 13  YEAR BUILT                      84548 non-null  int64   \n",
      " 14  TAX CLASS AT TIME OF SALE       84548 non-null  object  \n",
      " 15  BUILDING CLASS AT TIME OF SALE  84548 non-null  object  \n",
      " 16  SALE PRICE                      69987 non-null  float64 \n",
      " 17  SALE YEAR                       84548 non-null  int64   \n",
      " 18  SALE MONTH                      84548 non-null  int64   \n",
      "dtypes: category(4), float64(3), int64(9), object(3)\n",
      "memory usage: 10.1+ MB\n"
     ]
    }
   ],
   "source": [
    "df.info()"
   ]
  },
  {
   "cell_type": "code",
   "execution_count": 56,
   "id": "dbd5fef1",
   "metadata": {},
   "outputs": [],
   "source": [
    "df['SALE YEAR']=df['SALE YEAR'].astype('object')\n",
    "df['SALE MONTH']=df['SALE MONTH'].astype('object')"
   ]
  },
  {
   "cell_type": "code",
   "execution_count": 57,
   "id": "e428693e",
   "metadata": {},
   "outputs": [
    {
     "data": {
      "text/plain": [
       "<AxesSubplot:>"
      ]
     },
     "execution_count": 57,
     "metadata": {},
     "output_type": "execute_result"
    },
    {
     "data": {
      "image/png": "[encoded data removed]",
      "text/plain": [
       "<Figure size 432x288 with 2 Axes>"
      ]
     },
     "metadata": {
      "needs_background": "light"
     },
     "output_type": "display_data"
    }
   ],
   "source": [
    "#plotting heatmap of all the continuous variables to understand the correlation with Sale Price.\n",
    "cor=df.corr()\n",
    "sb.heatmap(cor)"
   ]
  },
  {
   "cell_type": "code",
   "execution_count": 58,
   "id": "d740a768",
   "metadata": {},
   "outputs": [
    {
     "data": {
      "text/plain": [
       "SALE PRICE           1.000000\n",
       "GROSS SQUARE FEET    0.444508\n",
       "TOTAL UNITS          0.125101\n",
       "RESIDENTIAL UNITS    0.119698\n",
       "LAND SQUARE FEET     0.059079\n",
       "COMMERCIAL UNITS     0.046006\n",
       "LOT                  0.012324\n",
       "YEAR BUILT           0.005189\n",
       "ZIP CODE            -0.034170\n",
       "BLOCK               -0.061139\n",
       "Name: SALE PRICE, dtype: float64"
      ]
     },
     "execution_count": 58,
     "metadata": {},
     "output_type": "execute_result"
    }
   ],
   "source": [
    "cor['SALE PRICE'].sort_values(ascending=False)"
   ]
  },
  {
   "cell_type": "markdown",
   "id": "80651d94",
   "metadata": {},
   "source": [
    "Gross Square Feet has the highest correlation with Sale Price"
   ]
  },
  {
   "cell_type": "code",
   "execution_count": 59,
   "id": "923a9c73",
   "metadata": {},
   "outputs": [],
   "source": [
    "#separating records having SALE PRICE as null\n",
    "test=df[df['SALE PRICE'].isna()]\n",
    "data=df[~df['SALE PRICE'].isna()]"
   ]
  },
  {
   "cell_type": "code",
   "execution_count": 60,
   "id": "abc8c4d1",
   "metadata": {},
   "outputs": [
    {
     "name": "stdout",
     "output_type": "stream",
     "text": [
      "<class 'pandas.core.frame.DataFrame'>\n",
      "Int64Index: 14561 entries, 1 to 84542\n",
      "Data columns (total 19 columns):\n",
      " #   Column                          Non-Null Count  Dtype   \n",
      "---  ------                          --------------  -----   \n",
      " 0   BOROUGH                         14561 non-null  category\n",
      " 1   NEIGHBORHOOD                    14561 non-null  category\n",
      " 2   BUILDING CLASS CATEGORY         14561 non-null  category\n",
      " 3   TAX CLASS AT PRESENT            14561 non-null  category\n",
      " 4   BLOCK                           14561 non-null  int64   \n",
      " 5   LOT                             14561 non-null  int64   \n",
      " 6   BUILDING CLASS AT PRESENT       14561 non-null  object  \n",
      " 7   ZIP CODE                        14561 non-null  int64   \n",
      " 8   RESIDENTIAL UNITS               14561 non-null  int64   \n",
      " 9   COMMERCIAL UNITS                14561 non-null  int64   \n",
      " 10  TOTAL UNITS                     14561 non-null  int64   \n",
      " 11  LAND SQUARE FEET                14561 non-null  float64 \n",
      " 12  GROSS SQUARE FEET               14561 non-null  float64 \n",
      " 13  YEAR BUILT                      14561 non-null  int64   \n",
      " 14  TAX CLASS AT TIME OF SALE       14561 non-null  object  \n",
      " 15  BUILDING CLASS AT TIME OF SALE  14561 non-null  object  \n",
      " 16  SALE PRICE                      0 non-null      float64 \n",
      " 17  SALE YEAR                       14561 non-null  object  \n",
      " 18  SALE MONTH                      14561 non-null  object  \n",
      "dtypes: category(4), float64(3), int64(7), object(5)\n",
      "memory usage: 1.9+ MB\n"
     ]
    }
   ],
   "source": [
    "test.info()"
   ]
  },
  {
   "cell_type": "code",
   "execution_count": 61,
   "id": "c02e0c76",
   "metadata": {},
   "outputs": [
    {
     "name": "stdout",
     "output_type": "stream",
     "text": [
      "<class 'pandas.core.frame.DataFrame'>\n",
      "Int64Index: 69987 entries, 0 to 84547\n",
      "Data columns (total 19 columns):\n",
      " #   Column                          Non-Null Count  Dtype   \n",
      "---  ------                          --------------  -----   \n",
      " 0   BOROUGH                         69987 non-null  category\n",
      " 1   NEIGHBORHOOD                    69987 non-null  category\n",
      " 2   BUILDING CLASS CATEGORY         69987 non-null  category\n",
      " 3   TAX CLASS AT PRESENT            69987 non-null  category\n",
      " 4   BLOCK                           69987 non-null  int64   \n",
      " 5   LOT                             69987 non-null  int64   \n",
      " 6   BUILDING CLASS AT PRESENT       69987 non-null  object  \n",
      " 7   ZIP CODE                        69987 non-null  int64   \n",
      " 8   RESIDENTIAL UNITS               69987 non-null  int64   \n",
      " 9   COMMERCIAL UNITS                69987 non-null  int64   \n",
      " 10  TOTAL UNITS                     69987 non-null  int64   \n",
      " 11  LAND SQUARE FEET                69987 non-null  float64 \n",
      " 12  GROSS SQUARE FEET               69987 non-null  float64 \n",
      " 13  YEAR BUILT                      69987 non-null  int64   \n",
      " 14  TAX CLASS AT TIME OF SALE       69987 non-null  object  \n",
      " 15  BUILDING CLASS AT TIME OF SALE  69987 non-null  object  \n",
      " 16  SALE PRICE                      69987 non-null  float64 \n",
      " 17  SALE YEAR                       69987 non-null  object  \n",
      " 18  SALE MONTH                      69987 non-null  object  \n",
      "dtypes: category(4), float64(3), int64(7), object(5)\n",
      "memory usage: 8.9+ MB\n"
     ]
    }
   ],
   "source": [
    "data.info()"
   ]
  },
  {
   "cell_type": "code",
   "execution_count": 62,
   "id": "adb06db3",
   "metadata": {},
   "outputs": [],
   "source": [
    "test = test.drop(columns='SALE PRICE')\n"
   ]
  },
  {
   "cell_type": "code",
   "execution_count": 63,
   "id": "755cc5aa",
   "metadata": {},
   "outputs": [
    {
     "name": "stdout",
     "output_type": "stream",
     "text": [
      "(14561, 18)\n"
     ]
    },
    {
     "data": {
      "text/html": [
       "<div>\n",
       "<style scoped>\n",
       "    .dataframe tbody tr th:only-of-type {\n",
       "        vertical-align: middle;\n",
       "    }\n",
       "\n",
       "    .dataframe tbody tr th {\n",
       "        vertical-align: top;\n",
       "    }\n",
       "\n",
       "    .dataframe thead th {\n",
       "        text-align: right;\n",
       "    }\n",
       "</style>\n",
       "<table border=\"1\" class=\"dataframe\">\n",
       "  <thead>\n",
       "    <tr style=\"text-align: right;\">\n",
       "      <th></th>\n",
       "      <th>BOROUGH</th>\n",
       "      <th>NEIGHBORHOOD</th>\n",
       "      <th>BUILDING CLASS CATEGORY</th>\n",
       "      <th>TAX CLASS AT PRESENT</th>\n",
       "      <th>BLOCK</th>\n",
       "      <th>LOT</th>\n",
       "      <th>BUILDING CLASS AT PRESENT</th>\n",
       "      <th>ZIP CODE</th>\n",
       "      <th>RESIDENTIAL UNITS</th>\n",
       "      <th>COMMERCIAL UNITS</th>\n",
       "      <th>TOTAL UNITS</th>\n",
       "      <th>LAND SQUARE FEET</th>\n",
       "      <th>GROSS SQUARE FEET</th>\n",
       "      <th>YEAR BUILT</th>\n",
       "      <th>TAX CLASS AT TIME OF SALE</th>\n",
       "      <th>BUILDING CLASS AT TIME OF SALE</th>\n",
       "      <th>SALE YEAR</th>\n",
       "      <th>SALE MONTH</th>\n",
       "    </tr>\n",
       "  </thead>\n",
       "  <tbody>\n",
       "    <tr>\n",
       "      <th>1</th>\n",
       "      <td>Manhattan</td>\n",
       "      <td>ALPHABET CITY</td>\n",
       "      <td>07 RENTALS - WALKUP APARTMENTS</td>\n",
       "      <td>Class 2</td>\n",
       "      <td>399</td>\n",
       "      <td>26</td>\n",
       "      <td>C7</td>\n",
       "      <td>10009</td>\n",
       "      <td>28</td>\n",
       "      <td>3</td>\n",
       "      <td>31</td>\n",
       "      <td>4616.0</td>\n",
       "      <td>18690.0</td>\n",
       "      <td>1900</td>\n",
       "      <td>Class 2</td>\n",
       "      <td>C7</td>\n",
       "      <td>2016</td>\n",
       "      <td>12</td>\n",
       "    </tr>\n",
       "    <tr>\n",
       "      <th>2</th>\n",
       "      <td>Manhattan</td>\n",
       "      <td>ALPHABET CITY</td>\n",
       "      <td>07 RENTALS - WALKUP APARTMENTS</td>\n",
       "      <td>Class 2</td>\n",
       "      <td>399</td>\n",
       "      <td>39</td>\n",
       "      <td>C7</td>\n",
       "      <td>10009</td>\n",
       "      <td>16</td>\n",
       "      <td>1</td>\n",
       "      <td>17</td>\n",
       "      <td>2212.0</td>\n",
       "      <td>7803.0</td>\n",
       "      <td>1900</td>\n",
       "      <td>Class 2</td>\n",
       "      <td>C7</td>\n",
       "      <td>2016</td>\n",
       "      <td>12</td>\n",
       "    </tr>\n",
       "    <tr>\n",
       "      <th>5</th>\n",
       "      <td>Manhattan</td>\n",
       "      <td>ALPHABET CITY</td>\n",
       "      <td>07 RENTALS - WALKUP APARTMENTS</td>\n",
       "      <td>Class 2</td>\n",
       "      <td>405</td>\n",
       "      <td>16</td>\n",
       "      <td>C4</td>\n",
       "      <td>10009</td>\n",
       "      <td>20</td>\n",
       "      <td>0</td>\n",
       "      <td>20</td>\n",
       "      <td>2581.0</td>\n",
       "      <td>9730.0</td>\n",
       "      <td>1900</td>\n",
       "      <td>Class 2</td>\n",
       "      <td>C4</td>\n",
       "      <td>2017</td>\n",
       "      <td>7</td>\n",
       "    </tr>\n",
       "    <tr>\n",
       "      <th>7</th>\n",
       "      <td>Manhattan</td>\n",
       "      <td>ALPHABET CITY</td>\n",
       "      <td>07 RENTALS - WALKUP APARTMENTS</td>\n",
       "      <td>Class 2</td>\n",
       "      <td>407</td>\n",
       "      <td>18</td>\n",
       "      <td>C7</td>\n",
       "      <td>10009</td>\n",
       "      <td>44</td>\n",
       "      <td>2</td>\n",
       "      <td>46</td>\n",
       "      <td>5163.0</td>\n",
       "      <td>21007.0</td>\n",
       "      <td>1900</td>\n",
       "      <td>Class 2</td>\n",
       "      <td>C7</td>\n",
       "      <td>2017</td>\n",
       "      <td>7</td>\n",
       "    </tr>\n",
       "    <tr>\n",
       "      <th>8</th>\n",
       "      <td>Manhattan</td>\n",
       "      <td>ALPHABET CITY</td>\n",
       "      <td>08 RENTALS - ELEVATOR APARTMENTS</td>\n",
       "      <td>Class 2</td>\n",
       "      <td>379</td>\n",
       "      <td>34</td>\n",
       "      <td>D5</td>\n",
       "      <td>10009</td>\n",
       "      <td>15</td>\n",
       "      <td>0</td>\n",
       "      <td>15</td>\n",
       "      <td>1534.0</td>\n",
       "      <td>9198.0</td>\n",
       "      <td>1920</td>\n",
       "      <td>Class 2</td>\n",
       "      <td>D5</td>\n",
       "      <td>2017</td>\n",
       "      <td>6</td>\n",
       "    </tr>\n",
       "  </tbody>\n",
       "</table>\n",
       "</div>"
      ],
      "text/plain": [
       "     BOROUGH   NEIGHBORHOOD                      BUILDING CLASS CATEGORY  \\\n",
       "1  Manhattan  ALPHABET CITY  07 RENTALS - WALKUP APARTMENTS                \n",
       "2  Manhattan  ALPHABET CITY  07 RENTALS - WALKUP APARTMENTS                \n",
       "5  Manhattan  ALPHABET CITY  07 RENTALS - WALKUP APARTMENTS                \n",
       "7  Manhattan  ALPHABET CITY  07 RENTALS - WALKUP APARTMENTS                \n",
       "8  Manhattan  ALPHABET CITY  08 RENTALS - ELEVATOR APARTMENTS              \n",
       "\n",
       "  TAX CLASS AT PRESENT  BLOCK  LOT BUILDING CLASS AT PRESENT  ZIP CODE  \\\n",
       "1              Class 2    399   26                        C7     10009   \n",
       "2              Class 2    399   39                        C7     10009   \n",
       "5              Class 2    405   16                        C4     10009   \n",
       "7              Class 2    407   18                        C7     10009   \n",
       "8              Class 2    379   34                        D5     10009   \n",
       "\n",
       "   RESIDENTIAL UNITS  COMMERCIAL UNITS  TOTAL UNITS  LAND SQUARE FEET  \\\n",
       "1                 28                 3           31            4616.0   \n",
       "2                 16                 1           17            2212.0   \n",
       "5                 20                 0           20            2581.0   \n",
       "7                 44                 2           46            5163.0   \n",
       "8                 15                 0           15            1534.0   \n",
       "\n",
       "   GROSS SQUARE FEET  YEAR BUILT TAX CLASS AT TIME OF SALE  \\\n",
       "1            18690.0        1900                   Class 2   \n",
       "2             7803.0        1900                   Class 2   \n",
       "5             9730.0        1900                   Class 2   \n",
       "7            21007.0        1900                   Class 2   \n",
       "8             9198.0        1920                   Class 2   \n",
       "\n",
       "  BUILDING CLASS AT TIME OF SALE SALE YEAR SALE MONTH  \n",
       "1                             C7      2016         12  \n",
       "2                             C7      2016         12  \n",
       "5                             C4      2017          7  \n",
       "7                             C7      2017          7  \n",
       "8                             D5      2017          6  "
      ]
     },
     "execution_count": 63,
     "metadata": {},
     "output_type": "execute_result"
    }
   ],
   "source": [
    "# Print first 5 rows of test\n",
    "print(test.shape)\n",
    "test.head()"
   ]
  },
  {
   "cell_type": "code",
   "execution_count": 64,
   "id": "6f7f0c13",
   "metadata": {},
   "outputs": [
    {
     "name": "stdout",
     "output_type": "stream",
     "text": [
      "(69987, 19)\n"
     ]
    },
    {
     "data": {
      "text/html": [
       "<div>\n",
       "<style scoped>\n",
       "    .dataframe tbody tr th:only-of-type {\n",
       "        vertical-align: middle;\n",
       "    }\n",
       "\n",
       "    .dataframe tbody tr th {\n",
       "        vertical-align: top;\n",
       "    }\n",
       "\n",
       "    .dataframe thead th {\n",
       "        text-align: right;\n",
       "    }\n",
       "</style>\n",
       "<table border=\"1\" class=\"dataframe\">\n",
       "  <thead>\n",
       "    <tr style=\"text-align: right;\">\n",
       "      <th></th>\n",
       "      <th>BOROUGH</th>\n",
       "      <th>NEIGHBORHOOD</th>\n",
       "      <th>BUILDING CLASS CATEGORY</th>\n",
       "      <th>TAX CLASS AT PRESENT</th>\n",
       "      <th>BLOCK</th>\n",
       "      <th>LOT</th>\n",
       "      <th>BUILDING CLASS AT PRESENT</th>\n",
       "      <th>ZIP CODE</th>\n",
       "      <th>RESIDENTIAL UNITS</th>\n",
       "      <th>COMMERCIAL UNITS</th>\n",
       "      <th>TOTAL UNITS</th>\n",
       "      <th>LAND SQUARE FEET</th>\n",
       "      <th>GROSS SQUARE FEET</th>\n",
       "      <th>YEAR BUILT</th>\n",
       "      <th>TAX CLASS AT TIME OF SALE</th>\n",
       "      <th>BUILDING CLASS AT TIME OF SALE</th>\n",
       "      <th>SALE PRICE</th>\n",
       "      <th>SALE YEAR</th>\n",
       "      <th>SALE MONTH</th>\n",
       "    </tr>\n",
       "  </thead>\n",
       "  <tbody>\n",
       "    <tr>\n",
       "      <th>0</th>\n",
       "      <td>Manhattan</td>\n",
       "      <td>ALPHABET CITY</td>\n",
       "      <td>07 RENTALS - WALKUP APARTMENTS</td>\n",
       "      <td>Class 2</td>\n",
       "      <td>392</td>\n",
       "      <td>6</td>\n",
       "      <td>C2</td>\n",
       "      <td>10009</td>\n",
       "      <td>5</td>\n",
       "      <td>0</td>\n",
       "      <td>5</td>\n",
       "      <td>1633.000000</td>\n",
       "      <td>6440.000000</td>\n",
       "      <td>1900</td>\n",
       "      <td>Class 2</td>\n",
       "      <td>C2</td>\n",
       "      <td>6625000.0</td>\n",
       "      <td>2017</td>\n",
       "      <td>7</td>\n",
       "    </tr>\n",
       "    <tr>\n",
       "      <th>3</th>\n",
       "      <td>Manhattan</td>\n",
       "      <td>ALPHABET CITY</td>\n",
       "      <td>07 RENTALS - WALKUP APARTMENTS</td>\n",
       "      <td>Class 2</td>\n",
       "      <td>402</td>\n",
       "      <td>21</td>\n",
       "      <td>C4</td>\n",
       "      <td>10009</td>\n",
       "      <td>10</td>\n",
       "      <td>0</td>\n",
       "      <td>10</td>\n",
       "      <td>2272.000000</td>\n",
       "      <td>6794.000000</td>\n",
       "      <td>1913</td>\n",
       "      <td>Class 2</td>\n",
       "      <td>C4</td>\n",
       "      <td>3936272.0</td>\n",
       "      <td>2016</td>\n",
       "      <td>9</td>\n",
       "    </tr>\n",
       "    <tr>\n",
       "      <th>4</th>\n",
       "      <td>Manhattan</td>\n",
       "      <td>ALPHABET CITY</td>\n",
       "      <td>07 RENTALS - WALKUP APARTMENTS</td>\n",
       "      <td>Class 2</td>\n",
       "      <td>404</td>\n",
       "      <td>55</td>\n",
       "      <td>C2</td>\n",
       "      <td>10009</td>\n",
       "      <td>6</td>\n",
       "      <td>0</td>\n",
       "      <td>6</td>\n",
       "      <td>2369.000000</td>\n",
       "      <td>4615.000000</td>\n",
       "      <td>1900</td>\n",
       "      <td>Class 2</td>\n",
       "      <td>C2</td>\n",
       "      <td>8000000.0</td>\n",
       "      <td>2016</td>\n",
       "      <td>11</td>\n",
       "    </tr>\n",
       "    <tr>\n",
       "      <th>6</th>\n",
       "      <td>Manhattan</td>\n",
       "      <td>ALPHABET CITY</td>\n",
       "      <td>07 RENTALS - WALKUP APARTMENTS</td>\n",
       "      <td>Class 2</td>\n",
       "      <td>406</td>\n",
       "      <td>32</td>\n",
       "      <td>C4</td>\n",
       "      <td>10009</td>\n",
       "      <td>8</td>\n",
       "      <td>0</td>\n",
       "      <td>8</td>\n",
       "      <td>1750.000000</td>\n",
       "      <td>4226.000000</td>\n",
       "      <td>1920</td>\n",
       "      <td>Class 2</td>\n",
       "      <td>C4</td>\n",
       "      <td>3192840.0</td>\n",
       "      <td>2016</td>\n",
       "      <td>9</td>\n",
       "    </tr>\n",
       "    <tr>\n",
       "      <th>9</th>\n",
       "      <td>Manhattan</td>\n",
       "      <td>ALPHABET CITY</td>\n",
       "      <td>08 RENTALS - ELEVATOR APARTMENTS</td>\n",
       "      <td>Class 2</td>\n",
       "      <td>387</td>\n",
       "      <td>153</td>\n",
       "      <td>D9</td>\n",
       "      <td>10009</td>\n",
       "      <td>24</td>\n",
       "      <td>0</td>\n",
       "      <td>24</td>\n",
       "      <td>4489.000000</td>\n",
       "      <td>18523.000000</td>\n",
       "      <td>1920</td>\n",
       "      <td>Class 2</td>\n",
       "      <td>D9</td>\n",
       "      <td>16232000.0</td>\n",
       "      <td>2016</td>\n",
       "      <td>11</td>\n",
       "    </tr>\n",
       "    <tr>\n",
       "      <th>11</th>\n",
       "      <td>Manhattan</td>\n",
       "      <td>ALPHABET CITY</td>\n",
       "      <td>08 RENTALS - ELEVATOR APARTMENTS</td>\n",
       "      <td>Class 2</td>\n",
       "      <td>400</td>\n",
       "      <td>21</td>\n",
       "      <td>D1</td>\n",
       "      <td>10009</td>\n",
       "      <td>10</td>\n",
       "      <td>0</td>\n",
       "      <td>10</td>\n",
       "      <td>3717.000000</td>\n",
       "      <td>12350.000000</td>\n",
       "      <td>2009</td>\n",
       "      <td>Class 2</td>\n",
       "      <td>D1</td>\n",
       "      <td>10350000.0</td>\n",
       "      <td>2016</td>\n",
       "      <td>10</td>\n",
       "    </tr>\n",
       "    <tr>\n",
       "      <th>12</th>\n",
       "      <td>Manhattan</td>\n",
       "      <td>ALPHABET CITY</td>\n",
       "      <td>09 COOPS - WALKUP APARTMENTS</td>\n",
       "      <td>Class 2</td>\n",
       "      <td>373</td>\n",
       "      <td>40</td>\n",
       "      <td>C6</td>\n",
       "      <td>10009</td>\n",
       "      <td>0</td>\n",
       "      <td>0</td>\n",
       "      <td>0</td>\n",
       "      <td>3941.675775</td>\n",
       "      <td>4045.707479</td>\n",
       "      <td>1920</td>\n",
       "      <td>Class 2</td>\n",
       "      <td>C6</td>\n",
       "      <td>1.0</td>\n",
       "      <td>2016</td>\n",
       "      <td>9</td>\n",
       "    </tr>\n",
       "    <tr>\n",
       "      <th>13</th>\n",
       "      <td>Manhattan</td>\n",
       "      <td>ALPHABET CITY</td>\n",
       "      <td>09 COOPS - WALKUP APARTMENTS</td>\n",
       "      <td>Class 2</td>\n",
       "      <td>373</td>\n",
       "      <td>40</td>\n",
       "      <td>C6</td>\n",
       "      <td>10009</td>\n",
       "      <td>0</td>\n",
       "      <td>0</td>\n",
       "      <td>0</td>\n",
       "      <td>3941.675775</td>\n",
       "      <td>4045.707479</td>\n",
       "      <td>1920</td>\n",
       "      <td>Class 2</td>\n",
       "      <td>C6</td>\n",
       "      <td>499000.0</td>\n",
       "      <td>2017</td>\n",
       "      <td>3</td>\n",
       "    </tr>\n",
       "    <tr>\n",
       "      <th>14</th>\n",
       "      <td>Manhattan</td>\n",
       "      <td>ALPHABET CITY</td>\n",
       "      <td>09 COOPS - WALKUP APARTMENTS</td>\n",
       "      <td>Class 2</td>\n",
       "      <td>373</td>\n",
       "      <td>40</td>\n",
       "      <td>C6</td>\n",
       "      <td>10009</td>\n",
       "      <td>0</td>\n",
       "      <td>0</td>\n",
       "      <td>0</td>\n",
       "      <td>3941.675775</td>\n",
       "      <td>4045.707479</td>\n",
       "      <td>1920</td>\n",
       "      <td>Class 2</td>\n",
       "      <td>C6</td>\n",
       "      <td>10.0</td>\n",
       "      <td>2017</td>\n",
       "      <td>4</td>\n",
       "    </tr>\n",
       "    <tr>\n",
       "      <th>15</th>\n",
       "      <td>Manhattan</td>\n",
       "      <td>ALPHABET CITY</td>\n",
       "      <td>09 COOPS - WALKUP APARTMENTS</td>\n",
       "      <td>Class 2</td>\n",
       "      <td>373</td>\n",
       "      <td>40</td>\n",
       "      <td>C6</td>\n",
       "      <td>10009</td>\n",
       "      <td>0</td>\n",
       "      <td>0</td>\n",
       "      <td>0</td>\n",
       "      <td>3941.675775</td>\n",
       "      <td>4045.707479</td>\n",
       "      <td>1920</td>\n",
       "      <td>Class 2</td>\n",
       "      <td>C6</td>\n",
       "      <td>529500.0</td>\n",
       "      <td>2017</td>\n",
       "      <td>6</td>\n",
       "    </tr>\n",
       "  </tbody>\n",
       "</table>\n",
       "</div>"
      ],
      "text/plain": [
       "      BOROUGH   NEIGHBORHOOD                      BUILDING CLASS CATEGORY  \\\n",
       "0   Manhattan  ALPHABET CITY  07 RENTALS - WALKUP APARTMENTS                \n",
       "3   Manhattan  ALPHABET CITY  07 RENTALS - WALKUP APARTMENTS                \n",
       "4   Manhattan  ALPHABET CITY  07 RENTALS - WALKUP APARTMENTS                \n",
       "6   Manhattan  ALPHABET CITY  07 RENTALS - WALKUP APARTMENTS                \n",
       "9   Manhattan  ALPHABET CITY  08 RENTALS - ELEVATOR APARTMENTS              \n",
       "11  Manhattan  ALPHABET CITY  08 RENTALS - ELEVATOR APARTMENTS              \n",
       "12  Manhattan  ALPHABET CITY  09 COOPS - WALKUP APARTMENTS                  \n",
       "13  Manhattan  ALPHABET CITY  09 COOPS - WALKUP APARTMENTS                  \n",
       "14  Manhattan  ALPHABET CITY  09 COOPS - WALKUP APARTMENTS                  \n",
       "15  Manhattan  ALPHABET CITY  09 COOPS - WALKUP APARTMENTS                  \n",
       "\n",
       "   TAX CLASS AT PRESENT  BLOCK  LOT BUILDING CLASS AT PRESENT  ZIP CODE  \\\n",
       "0               Class 2    392    6                        C2     10009   \n",
       "3               Class 2    402   21                        C4     10009   \n",
       "4               Class 2    404   55                        C2     10009   \n",
       "6               Class 2    406   32                        C4     10009   \n",
       "9               Class 2    387  153                        D9     10009   \n",
       "11              Class 2    400   21                        D1     10009   \n",
       "12              Class 2    373   40                        C6     10009   \n",
       "13              Class 2    373   40                        C6     10009   \n",
       "14              Class 2    373   40                        C6     10009   \n",
       "15              Class 2    373   40                        C6     10009   \n",
       "\n",
       "    RESIDENTIAL UNITS  COMMERCIAL UNITS  TOTAL UNITS  LAND SQUARE FEET  \\\n",
       "0                   5                 0            5       1633.000000   \n",
       "3                  10                 0           10       2272.000000   \n",
       "4                   6                 0            6       2369.000000   \n",
       "6                   8                 0            8       1750.000000   \n",
       "9                  24                 0           24       4489.000000   \n",
       "11                 10                 0           10       3717.000000   \n",
       "12                  0                 0            0       3941.675775   \n",
       "13                  0                 0            0       3941.675775   \n",
       "14                  0                 0            0       3941.675775   \n",
       "15                  0                 0            0       3941.675775   \n",
       "\n",
       "    GROSS SQUARE FEET  YEAR BUILT TAX CLASS AT TIME OF SALE  \\\n",
       "0         6440.000000        1900                   Class 2   \n",
       "3         6794.000000        1913                   Class 2   \n",
       "4         4615.000000        1900                   Class 2   \n",
       "6         4226.000000        1920                   Class 2   \n",
       "9        18523.000000        1920                   Class 2   \n",
       "11       12350.000000        2009                   Class 2   \n",
       "12        4045.707479        1920                   Class 2   \n",
       "13        4045.707479        1920                   Class 2   \n",
       "14        4045.707479        1920                   Class 2   \n",
       "15        4045.707479        1920                   Class 2   \n",
       "\n",
       "   BUILDING CLASS AT TIME OF SALE  SALE PRICE SALE YEAR SALE MONTH  \n",
       "0                              C2   6625000.0      2017          7  \n",
       "3                              C4   3936272.0      2016          9  \n",
       "4                              C2   8000000.0      2016         11  \n",
       "6                              C4   3192840.0      2016          9  \n",
       "9                              D9  16232000.0      2016         11  \n",
       "11                             D1  10350000.0      2016         10  \n",
       "12                             C6         1.0      2016          9  \n",
       "13                             C6    499000.0      2017          3  \n",
       "14                             C6        10.0      2017          4  \n",
       "15                             C6    529500.0      2017          6  "
      ]
     },
     "execution_count": 64,
     "metadata": {},
     "output_type": "execute_result"
    }
   ],
   "source": [
    "#Printing first rows of our data\n",
    "print(data.shape)\n",
    "data.head(10)"
   ]
  },
  {
   "cell_type": "code",
   "execution_count": 65,
   "id": "d0209d3e",
   "metadata": {},
   "outputs": [
    {
     "data": {
      "text/html": [
       "<div>\n",
       "<style scoped>\n",
       "    .dataframe tbody tr th:only-of-type {\n",
       "        vertical-align: middle;\n",
       "    }\n",
       "\n",
       "    .dataframe tbody tr th {\n",
       "        vertical-align: top;\n",
       "    }\n",
       "\n",
       "    .dataframe thead th {\n",
       "        text-align: right;\n",
       "    }\n",
       "</style>\n",
       "<table border=\"1\" class=\"dataframe\">\n",
       "  <thead>\n",
       "    <tr style=\"text-align: right;\">\n",
       "      <th></th>\n",
       "      <th>BLOCK</th>\n",
       "      <th>LOT</th>\n",
       "      <th>ZIP CODE</th>\n",
       "      <th>RESIDENTIAL UNITS</th>\n",
       "      <th>COMMERCIAL UNITS</th>\n",
       "      <th>TOTAL UNITS</th>\n",
       "      <th>LAND SQUARE FEET</th>\n",
       "      <th>GROSS SQUARE FEET</th>\n",
       "      <th>YEAR BUILT</th>\n",
       "      <th>SALE PRICE</th>\n",
       "    </tr>\n",
       "  </thead>\n",
       "  <tbody>\n",
       "    <tr>\n",
       "      <th>count</th>\n",
       "      <td>69987.000000</td>\n",
       "      <td>69987.000000</td>\n",
       "      <td>69987.000000</td>\n",
       "      <td>69987.000000</td>\n",
       "      <td>69987.000000</td>\n",
       "      <td>69987.000000</td>\n",
       "      <td>6.998700e+04</td>\n",
       "      <td>6.998700e+04</td>\n",
       "      <td>69987.000000</td>\n",
       "      <td>6.998700e+04</td>\n",
       "    </tr>\n",
       "    <tr>\n",
       "      <th>mean</th>\n",
       "      <td>4196.072528</td>\n",
       "      <td>373.828397</td>\n",
       "      <td>10741.455185</td>\n",
       "      <td>1.899553</td>\n",
       "      <td>0.172489</td>\n",
       "      <td>2.092203</td>\n",
       "      <td>3.723936e+03</td>\n",
       "      <td>3.788460e+03</td>\n",
       "      <td>1950.743738</td>\n",
       "      <td>1.276456e+06</td>\n",
       "    </tr>\n",
       "    <tr>\n",
       "      <th>std</th>\n",
       "      <td>3429.196524</td>\n",
       "      <td>656.096528</td>\n",
       "      <td>1263.234938</td>\n",
       "      <td>14.549545</td>\n",
       "      <td>9.123717</td>\n",
       "      <td>17.276100</td>\n",
       "      <td>3.369980e+04</td>\n",
       "      <td>2.447372e+04</td>\n",
       "      <td>35.361297</td>\n",
       "      <td>1.140526e+07</td>\n",
       "    </tr>\n",
       "    <tr>\n",
       "      <th>min</th>\n",
       "      <td>1.000000</td>\n",
       "      <td>1.000000</td>\n",
       "      <td>0.000000</td>\n",
       "      <td>0.000000</td>\n",
       "      <td>0.000000</td>\n",
       "      <td>0.000000</td>\n",
       "      <td>0.000000e+00</td>\n",
       "      <td>0.000000e+00</td>\n",
       "      <td>1111.000000</td>\n",
       "      <td>0.000000e+00</td>\n",
       "    </tr>\n",
       "    <tr>\n",
       "      <th>25%</th>\n",
       "      <td>1348.000000</td>\n",
       "      <td>22.000000</td>\n",
       "      <td>10306.000000</td>\n",
       "      <td>0.000000</td>\n",
       "      <td>0.000000</td>\n",
       "      <td>0.000000</td>\n",
       "      <td>1.900000e+03</td>\n",
       "      <td>1.268000e+03</td>\n",
       "      <td>1925.000000</td>\n",
       "      <td>2.250000e+05</td>\n",
       "    </tr>\n",
       "    <tr>\n",
       "      <th>50%</th>\n",
       "      <td>3378.000000</td>\n",
       "      <td>50.000000</td>\n",
       "      <td>11209.000000</td>\n",
       "      <td>1.000000</td>\n",
       "      <td>0.000000</td>\n",
       "      <td>1.000000</td>\n",
       "      <td>2.946000e+03</td>\n",
       "      <td>2.400000e+03</td>\n",
       "      <td>1945.000000</td>\n",
       "      <td>5.300000e+05</td>\n",
       "    </tr>\n",
       "    <tr>\n",
       "      <th>75%</th>\n",
       "      <td>6186.000000</td>\n",
       "      <td>709.000000</td>\n",
       "      <td>11249.000000</td>\n",
       "      <td>2.000000</td>\n",
       "      <td>0.000000</td>\n",
       "      <td>2.000000</td>\n",
       "      <td>3.941676e+03</td>\n",
       "      <td>4.045707e+03</td>\n",
       "      <td>1975.000000</td>\n",
       "      <td>9.500000e+05</td>\n",
       "    </tr>\n",
       "    <tr>\n",
       "      <th>max</th>\n",
       "      <td>16319.000000</td>\n",
       "      <td>9106.000000</td>\n",
       "      <td>11694.000000</td>\n",
       "      <td>1844.000000</td>\n",
       "      <td>2261.000000</td>\n",
       "      <td>2261.000000</td>\n",
       "      <td>4.252327e+06</td>\n",
       "      <td>3.750565e+06</td>\n",
       "      <td>2017.000000</td>\n",
       "      <td>2.210000e+09</td>\n",
       "    </tr>\n",
       "  </tbody>\n",
       "</table>\n",
       "</div>"
      ],
      "text/plain": [
       "              BLOCK           LOT      ZIP CODE  RESIDENTIAL UNITS  \\\n",
       "count  69987.000000  69987.000000  69987.000000       69987.000000   \n",
       "mean    4196.072528    373.828397  10741.455185           1.899553   \n",
       "std     3429.196524    656.096528   1263.234938          14.549545   \n",
       "min        1.000000      1.000000      0.000000           0.000000   \n",
       "25%     1348.000000     22.000000  10306.000000           0.000000   \n",
       "50%     3378.000000     50.000000  11209.000000           1.000000   \n",
       "75%     6186.000000    709.000000  11249.000000           2.000000   \n",
       "max    16319.000000   9106.000000  11694.000000        1844.000000   \n",
       "\n",
       "       COMMERCIAL UNITS   TOTAL UNITS  LAND SQUARE FEET  GROSS SQUARE FEET  \\\n",
       "count      69987.000000  69987.000000      6.998700e+04       6.998700e+04   \n",
       "mean           0.172489      2.092203      3.723936e+03       3.788460e+03   \n",
       "std            9.123717     17.276100      3.369980e+04       2.447372e+04   \n",
       "min            0.000000      0.000000      0.000000e+00       0.000000e+00   \n",
       "25%            0.000000      0.000000      1.900000e+03       1.268000e+03   \n",
       "50%            0.000000      1.000000      2.946000e+03       2.400000e+03   \n",
       "75%            0.000000      2.000000      3.941676e+03       4.045707e+03   \n",
       "max         2261.000000   2261.000000      4.252327e+06       3.750565e+06   \n",
       "\n",
       "         YEAR BUILT    SALE PRICE  \n",
       "count  69987.000000  6.998700e+04  \n",
       "mean    1950.743738  1.276456e+06  \n",
       "std       35.361297  1.140526e+07  \n",
       "min     1111.000000  0.000000e+00  \n",
       "25%     1925.000000  2.250000e+05  \n",
       "50%     1945.000000  5.300000e+05  \n",
       "75%     1975.000000  9.500000e+05  \n",
       "max     2017.000000  2.210000e+09  "
      ]
     },
     "execution_count": 65,
     "metadata": {},
     "output_type": "execute_result"
    }
   ],
   "source": [
    "numeric_data=data.select_dtypes(include=[np.number])\n",
    "numeric_data.describe()"
   ]
  },
  {
   "cell_type": "code",
   "execution_count": 66,
   "id": "7172efdf",
   "metadata": {},
   "outputs": [
    {
     "data": {
      "image/png": "[encoded data removed]",
      "text/plain": [
       "<Figure size 1440x576 with 1 Axes>"
      ]
     },
     "metadata": {
      "needs_background": "light"
     },
     "output_type": "display_data"
    }
   ],
   "source": [
    "plt.figure(figsize=(20,8))\n",
    "\n",
    "sb.boxplot(x='SALE PRICE', data=data)\n",
    "plt.ticklabel_format(style='plain', axis='x')\n",
    "plt.title('Boxplot of SALE PRICE in USD')\n",
    "plt.show()"
   ]
  },
  {
   "cell_type": "code",
   "execution_count": 67,
   "id": "d5357884",
   "metadata": {},
   "outputs": [
    {
     "name": "stderr",
     "output_type": "stream",
     "text": [
      "C:\\Users\\gaura\\anaconda3\\lib\\site-packages\\seaborn\\distributions.py:2557: FutureWarning: `distplot` is a deprecated function and will be removed in a future version. Please adapt your code to use either `displot` (a figure-level function with similar flexibility) or `histplot` (an axes-level function for histograms).\n",
      "  warnings.warn(msg, FutureWarning)\n"
     ]
    },
    {
     "data": {
      "text/plain": [
       "array([[<AxesSubplot:title={'center':'SALE PRICE'}>]], dtype=object)"
      ]
     },
     "execution_count": 67,
     "metadata": {},
     "output_type": "execute_result"
    },
    {
     "data": {
      "image/png": "[encoded data removed]",
      "text/plain": [
       "<Figure size 432x288 with 1 Axes>"
      ]
     },
     "metadata": {
      "needs_background": "light"
     },
     "output_type": "display_data"
    },
    {
     "data": {
      "image/png": "[encoded data removed]",
      "text/plain": [
       "<Figure size 432x288 with 1 Axes>"
      ]
     },
     "metadata": {
      "needs_background": "light"
     },
     "output_type": "display_data"
    }
   ],
   "source": [
    "sb.distplot(data['SALE PRICE'])\n",
    "data.hist('SALE PRICE')"
   ]
  },
  {
   "cell_type": "code",
   "execution_count": 68,
   "id": "9decf2c7",
   "metadata": {},
   "outputs": [
    {
     "data": {
      "text/plain": [
       "124.09425128278801"
      ]
     },
     "execution_count": 68,
     "metadata": {},
     "output_type": "execute_result"
    }
   ],
   "source": [
    "data['SALE PRICE'].skew()\n"
   ]
  },
  {
   "cell_type": "markdown",
   "id": "adbe75c0",
   "metadata": {},
   "source": [
    "as we can see data is heavily skewed because of outliers hence we are removing outliers.\n",
    "\n",
    "data=data[(data['SALE PRICE'] > 100000) & (data['SALE PRICE'] < 5000000)]"
   ]
  },
  {
   "cell_type": "code",
   "execution_count": 69,
   "id": "c0b8118f",
   "metadata": {},
   "outputs": [],
   "source": [
    "data=data[(data['SALE PRICE'] > 100000) & (data['SALE PRICE'] < 5000000)]"
   ]
  },
  {
   "cell_type": "code",
   "execution_count": 70,
   "id": "86fb413e",
   "metadata": {},
   "outputs": [
    {
     "name": "stdout",
     "output_type": "stream",
     "text": [
      "<class 'pandas.core.frame.DataFrame'>\n",
      "Int64Index: 54657 entries, 3 to 84545\n",
      "Data columns (total 19 columns):\n",
      " #   Column                          Non-Null Count  Dtype   \n",
      "---  ------                          --------------  -----   \n",
      " 0   BOROUGH                         54657 non-null  category\n",
      " 1   NEIGHBORHOOD                    54657 non-null  category\n",
      " 2   BUILDING CLASS CATEGORY         54657 non-null  category\n",
      " 3   TAX CLASS AT PRESENT            54657 non-null  category\n",
      " 4   BLOCK                           54657 non-null  int64   \n",
      " 5   LOT                             54657 non-null  int64   \n",
      " 6   BUILDING CLASS AT PRESENT       54657 non-null  object  \n",
      " 7   ZIP CODE                        54657 non-null  int64   \n",
      " 8   RESIDENTIAL UNITS               54657 non-null  int64   \n",
      " 9   COMMERCIAL UNITS                54657 non-null  int64   \n",
      " 10  TOTAL UNITS                     54657 non-null  int64   \n",
      " 11  LAND SQUARE FEET                54657 non-null  float64 \n",
      " 12  GROSS SQUARE FEET               54657 non-null  float64 \n",
      " 13  YEAR BUILT                      54657 non-null  int64   \n",
      " 14  TAX CLASS AT TIME OF SALE       54657 non-null  object  \n",
      " 15  BUILDING CLASS AT TIME OF SALE  54657 non-null  object  \n",
      " 16  SALE PRICE                      54657 non-null  float64 \n",
      " 17  SALE YEAR                       54657 non-null  object  \n",
      " 18  SALE MONTH                      54657 non-null  object  \n",
      "dtypes: category(4), float64(3), int64(7), object(5)\n",
      "memory usage: 6.9+ MB\n"
     ]
    }
   ],
   "source": [
    "data.info()"
   ]
  },
  {
   "cell_type": "code",
   "execution_count": 71,
   "id": "5ac9b032",
   "metadata": {},
   "outputs": [
    {
     "data": {
      "text/plain": [
       "2.3446374221747437"
      ]
     },
     "execution_count": 71,
     "metadata": {},
     "output_type": "execute_result"
    }
   ],
   "source": [
    "data['SALE PRICE'].skew()"
   ]
  },
  {
   "cell_type": "code",
   "execution_count": 72,
   "id": "2d2807ad",
   "metadata": {},
   "outputs": [
    {
     "name": "stderr",
     "output_type": "stream",
     "text": [
      "C:\\Users\\gaura\\anaconda3\\lib\\site-packages\\seaborn\\distributions.py:2557: FutureWarning: `distplot` is a deprecated function and will be removed in a future version. Please adapt your code to use either `displot` (a figure-level function with similar flexibility) or `histplot` (an axes-level function for histograms).\n",
      "  warnings.warn(msg, FutureWarning)\n"
     ]
    },
    {
     "data": {
      "text/plain": [
       "<AxesSubplot:xlabel='SALE PRICE', ylabel='Density'>"
      ]
     },
     "execution_count": 72,
     "metadata": {},
     "output_type": "execute_result"
    },
    {
     "data": {
      "image/png": "[encoded data removed]",
      "text/plain": [
       "<Figure size 432x288 with 1 Axes>"
      ]
     },
     "metadata": {
      "needs_background": "light"
     },
     "output_type": "display_data"
    }
   ],
   "source": [
    "sb.distplot(data['SALE PRICE'])"
   ]
  },
  {
   "cell_type": "code",
   "execution_count": 73,
   "id": "790de152",
   "metadata": {},
   "outputs": [
    {
     "data": {
      "text/plain": [
       "<AxesSubplot:xlabel='SALE PRICE', ylabel='Density'>"
      ]
     },
     "execution_count": 73,
     "metadata": {},
     "output_type": "execute_result"
    },
    {
     "data": {
      "image/png": "[encoded data removed]",
      "text/plain": [
       "<Figure size 432x288 with 1 Axes>"
      ]
     },
     "metadata": {
      "needs_background": "light"
     },
     "output_type": "display_data"
    }
   ],
   "source": [
    "sb.kdeplot(data=data, x=\"SALE PRICE\", log_scale=True,fill=True)"
   ]
  },
  {
   "cell_type": "code",
   "execution_count": 74,
   "id": "9972bbb8",
   "metadata": {},
   "outputs": [
    {
     "data": {
      "text/plain": [
       "<AxesSubplot:xlabel='GROSS SQUARE FEET'>"
      ]
     },
     "execution_count": 74,
     "metadata": {},
     "output_type": "execute_result"
    },
    {
     "data": {
      "image/png": "[encoded data removed]",
      "text/plain": [
       "<Figure size 720x432 with 1 Axes>"
      ]
     },
     "metadata": {
      "needs_background": "light"
     },
     "output_type": "display_data"
    }
   ],
   "source": [
    "plt.figure(figsize=(10,6))\n",
    "sb.boxplot(x='GROSS SQUARE FEET', data=data,showfliers=True)"
   ]
  },
  {
   "cell_type": "code",
   "execution_count": 75,
   "id": "c88c80d8",
   "metadata": {},
   "outputs": [
    {
     "data": {
      "text/plain": [
       "<AxesSubplot:xlabel='LAND SQUARE FEET'>"
      ]
     },
     "execution_count": 75,
     "metadata": {},
     "output_type": "execute_result"
    },
    {
     "data": {
      "image/png": "[encoded data removed]",
      "text/plain": [
       "<Figure size 720x432 with 1 Axes>"
      ]
     },
     "metadata": {
      "needs_background": "light"
     },
     "output_type": "display_data"
    }
   ],
   "source": [
    "plt.figure(figsize=(10,6))\n",
    "sb.boxplot(x='LAND SQUARE FEET', data=data,showfliers=True)"
   ]
  },
  {
   "cell_type": "code",
   "execution_count": 76,
   "id": "40dc45d5",
   "metadata": {},
   "outputs": [
    {
     "data": {
      "text/plain": [
       "4045.707479    19892\n",
       "0.000000        7966\n",
       "1800.000000      236\n",
       "1600.000000      232\n",
       "1440.000000      232\n",
       "               ...  \n",
       "9240.000000        1\n",
       "5957.000000        1\n",
       "5640.000000        1\n",
       "8800.000000        1\n",
       "6704.000000        1\n",
       "Name: GROSS SQUARE FEET, Length: 3645, dtype: int64"
      ]
     },
     "execution_count": 76,
     "metadata": {},
     "output_type": "execute_result"
    }
   ],
   "source": [
    "data['GROSS SQUARE FEET'].value_counts()"
   ]
  },
  {
   "cell_type": "code",
   "execution_count": 77,
   "id": "b4951343",
   "metadata": {},
   "outputs": [
    {
     "name": "stdout",
     "output_type": "stream",
     "text": [
      "<class 'pandas.core.frame.DataFrame'>\n",
      "Int64Index: 53920 entries, 3 to 84545\n",
      "Data columns (total 19 columns):\n",
      " #   Column                          Non-Null Count  Dtype   \n",
      "---  ------                          --------------  -----   \n",
      " 0   BOROUGH                         53920 non-null  category\n",
      " 1   NEIGHBORHOOD                    53920 non-null  category\n",
      " 2   BUILDING CLASS CATEGORY         53920 non-null  category\n",
      " 3   TAX CLASS AT PRESENT            53920 non-null  category\n",
      " 4   BLOCK                           53920 non-null  int64   \n",
      " 5   LOT                             53920 non-null  int64   \n",
      " 6   BUILDING CLASS AT PRESENT       53920 non-null  object  \n",
      " 7   ZIP CODE                        53920 non-null  int64   \n",
      " 8   RESIDENTIAL UNITS               53920 non-null  int64   \n",
      " 9   COMMERCIAL UNITS                53920 non-null  int64   \n",
      " 10  TOTAL UNITS                     53920 non-null  int64   \n",
      " 11  LAND SQUARE FEET                53920 non-null  float64 \n",
      " 12  GROSS SQUARE FEET               53920 non-null  float64 \n",
      " 13  YEAR BUILT                      53920 non-null  int64   \n",
      " 14  TAX CLASS AT TIME OF SALE       53920 non-null  object  \n",
      " 15  BUILDING CLASS AT TIME OF SALE  53920 non-null  object  \n",
      " 16  SALE PRICE                      53920 non-null  float64 \n",
      " 17  SALE YEAR                       53920 non-null  object  \n",
      " 18  SALE MONTH                      53920 non-null  object  \n",
      "dtypes: category(4), float64(3), int64(7), object(5)\n",
      "memory usage: 6.9+ MB\n"
     ]
    }
   ],
   "source": [
    "data = data[data['GROSS SQUARE FEET'] < 10000]\n",
    "data = data[data['LAND SQUARE FEET'] < 10000]\n",
    "data.info()"
   ]
  },
  {
   "cell_type": "code",
   "execution_count": 78,
   "id": "a51b63ad",
   "metadata": {},
   "outputs": [
    {
     "data": {
      "image/png": "[encoded data removed]",
      "text/plain": [
       "<Figure size 720x576 with 1 Axes>"
      ]
     },
     "metadata": {
      "needs_background": "light"
     },
     "output_type": "display_data"
    }
   ],
   "source": [
    "plt.figure(figsize=(10,8))\n",
    "sb.boxplot(x='TOTAL UNITS', y='SALE PRICE', data=data)\n",
    "plt.title('Total Units vs Sale Price')\n",
    "plt.show()"
   ]
  },
  {
   "cell_type": "code",
   "execution_count": 79,
   "id": "e5dac5aa",
   "metadata": {},
   "outputs": [
    {
     "data": {
      "text/plain": [
       "Index(['BLOCK', 'LOT', 'ZIP CODE', 'RESIDENTIAL UNITS', 'COMMERCIAL UNITS',\n",
       "       'TOTAL UNITS', 'LAND SQUARE FEET', 'GROSS SQUARE FEET', 'YEAR BUILT',\n",
       "       'SALE PRICE'],\n",
       "      dtype='object')"
      ]
     },
     "execution_count": 79,
     "metadata": {},
     "output_type": "execute_result"
    }
   ],
   "source": [
    "numeric_data.columns"
   ]
  },
  {
   "cell_type": "code",
   "execution_count": 80,
   "id": "34d5adb9",
   "metadata": {},
   "outputs": [
    {
     "data": {
      "text/html": [
       "<div>\n",
       "<style scoped>\n",
       "    .dataframe tbody tr th:only-of-type {\n",
       "        vertical-align: middle;\n",
       "    }\n",
       "\n",
       "    .dataframe tbody tr th {\n",
       "        vertical-align: top;\n",
       "    }\n",
       "\n",
       "    .dataframe thead th {\n",
       "        text-align: right;\n",
       "    }\n",
       "</style>\n",
       "<table border=\"1\" class=\"dataframe\">\n",
       "  <thead>\n",
       "    <tr style=\"text-align: right;\">\n",
       "      <th></th>\n",
       "      <th>BLOCK</th>\n",
       "      <th>LOT</th>\n",
       "      <th>ZIP CODE</th>\n",
       "      <th>RESIDENTIAL UNITS</th>\n",
       "      <th>COMMERCIAL UNITS</th>\n",
       "      <th>TOTAL UNITS</th>\n",
       "      <th>LAND SQUARE FEET</th>\n",
       "      <th>GROSS SQUARE FEET</th>\n",
       "      <th>YEAR BUILT</th>\n",
       "      <th>SALE PRICE</th>\n",
       "    </tr>\n",
       "  </thead>\n",
       "  <tbody>\n",
       "    <tr>\n",
       "      <th>BLOCK</th>\n",
       "      <td>1.000000</td>\n",
       "      <td>-0.239443</td>\n",
       "      <td>0.279901</td>\n",
       "      <td>0.106360</td>\n",
       "      <td>0.007212</td>\n",
       "      <td>0.019277</td>\n",
       "      <td>-0.016990</td>\n",
       "      <td>-0.277380</td>\n",
       "      <td>-0.071998</td>\n",
       "      <td>-0.329976</td>\n",
       "    </tr>\n",
       "    <tr>\n",
       "      <th>LOT</th>\n",
       "      <td>-0.239443</td>\n",
       "      <td>1.000000</td>\n",
       "      <td>-0.164170</td>\n",
       "      <td>-0.095115</td>\n",
       "      <td>-0.004353</td>\n",
       "      <td>-0.014540</td>\n",
       "      <td>-0.063169</td>\n",
       "      <td>0.072008</td>\n",
       "      <td>0.397129</td>\n",
       "      <td>0.210096</td>\n",
       "    </tr>\n",
       "    <tr>\n",
       "      <th>ZIP CODE</th>\n",
       "      <td>0.279901</td>\n",
       "      <td>-0.164170</td>\n",
       "      <td>1.000000</td>\n",
       "      <td>0.158916</td>\n",
       "      <td>0.003646</td>\n",
       "      <td>0.022295</td>\n",
       "      <td>-0.127876</td>\n",
       "      <td>-0.160108</td>\n",
       "      <td>-0.113800</td>\n",
       "      <td>-0.157944</td>\n",
       "    </tr>\n",
       "    <tr>\n",
       "      <th>RESIDENTIAL UNITS</th>\n",
       "      <td>0.106360</td>\n",
       "      <td>-0.095115</td>\n",
       "      <td>0.158916</td>\n",
       "      <td>1.000000</td>\n",
       "      <td>-0.002093</td>\n",
       "      <td>0.114568</td>\n",
       "      <td>-0.079164</td>\n",
       "      <td>0.042333</td>\n",
       "      <td>-0.127238</td>\n",
       "      <td>0.151180</td>\n",
       "    </tr>\n",
       "    <tr>\n",
       "      <th>COMMERCIAL UNITS</th>\n",
       "      <td>0.007212</td>\n",
       "      <td>-0.004353</td>\n",
       "      <td>0.003646</td>\n",
       "      <td>-0.002093</td>\n",
       "      <td>1.000000</td>\n",
       "      <td>0.993126</td>\n",
       "      <td>0.000590</td>\n",
       "      <td>0.009045</td>\n",
       "      <td>-0.006119</td>\n",
       "      <td>0.000403</td>\n",
       "    </tr>\n",
       "    <tr>\n",
       "      <th>TOTAL UNITS</th>\n",
       "      <td>0.019277</td>\n",
       "      <td>-0.014540</td>\n",
       "      <td>0.022295</td>\n",
       "      <td>0.114568</td>\n",
       "      <td>0.993126</td>\n",
       "      <td>1.000000</td>\n",
       "      <td>-0.008740</td>\n",
       "      <td>0.014153</td>\n",
       "      <td>-0.020447</td>\n",
       "      <td>0.018592</td>\n",
       "    </tr>\n",
       "    <tr>\n",
       "      <th>LAND SQUARE FEET</th>\n",
       "      <td>-0.016990</td>\n",
       "      <td>-0.063169</td>\n",
       "      <td>-0.127876</td>\n",
       "      <td>-0.079164</td>\n",
       "      <td>0.000590</td>\n",
       "      <td>-0.008740</td>\n",
       "      <td>1.000000</td>\n",
       "      <td>0.664700</td>\n",
       "      <td>-0.045750</td>\n",
       "      <td>0.090386</td>\n",
       "    </tr>\n",
       "    <tr>\n",
       "      <th>GROSS SQUARE FEET</th>\n",
       "      <td>-0.277380</td>\n",
       "      <td>0.072008</td>\n",
       "      <td>-0.160108</td>\n",
       "      <td>0.042333</td>\n",
       "      <td>0.009045</td>\n",
       "      <td>0.014153</td>\n",
       "      <td>0.664700</td>\n",
       "      <td>1.000000</td>\n",
       "      <td>0.004894</td>\n",
       "      <td>0.249645</td>\n",
       "    </tr>\n",
       "    <tr>\n",
       "      <th>YEAR BUILT</th>\n",
       "      <td>-0.071998</td>\n",
       "      <td>0.397129</td>\n",
       "      <td>-0.113800</td>\n",
       "      <td>-0.127238</td>\n",
       "      <td>-0.006119</td>\n",
       "      <td>-0.020447</td>\n",
       "      <td>-0.045750</td>\n",
       "      <td>0.004894</td>\n",
       "      <td>1.000000</td>\n",
       "      <td>0.030090</td>\n",
       "    </tr>\n",
       "    <tr>\n",
       "      <th>SALE PRICE</th>\n",
       "      <td>-0.329976</td>\n",
       "      <td>0.210096</td>\n",
       "      <td>-0.157944</td>\n",
       "      <td>0.151180</td>\n",
       "      <td>0.000403</td>\n",
       "      <td>0.018592</td>\n",
       "      <td>0.090386</td>\n",
       "      <td>0.249645</td>\n",
       "      <td>0.030090</td>\n",
       "      <td>1.000000</td>\n",
       "    </tr>\n",
       "  </tbody>\n",
       "</table>\n",
       "</div>"
      ],
      "text/plain": [
       "                      BLOCK       LOT  ZIP CODE  RESIDENTIAL UNITS  \\\n",
       "BLOCK              1.000000 -0.239443  0.279901           0.106360   \n",
       "LOT               -0.239443  1.000000 -0.164170          -0.095115   \n",
       "ZIP CODE           0.279901 -0.164170  1.000000           0.158916   \n",
       "RESIDENTIAL UNITS  0.106360 -0.095115  0.158916           1.000000   \n",
       "COMMERCIAL UNITS   0.007212 -0.004353  0.003646          -0.002093   \n",
       "TOTAL UNITS        0.019277 -0.014540  0.022295           0.114568   \n",
       "LAND SQUARE FEET  -0.016990 -0.063169 -0.127876          -0.079164   \n",
       "GROSS SQUARE FEET -0.277380  0.072008 -0.160108           0.042333   \n",
       "YEAR BUILT        -0.071998  0.397129 -0.113800          -0.127238   \n",
       "SALE PRICE        -0.329976  0.210096 -0.157944           0.151180   \n",
       "\n",
       "                   COMMERCIAL UNITS  TOTAL UNITS  LAND SQUARE FEET  \\\n",
       "BLOCK                      0.007212     0.019277         -0.016990   \n",
       "LOT                       -0.004353    -0.014540         -0.063169   \n",
       "ZIP CODE                   0.003646     0.022295         -0.127876   \n",
       "RESIDENTIAL UNITS         -0.002093     0.114568         -0.079164   \n",
       "COMMERCIAL UNITS           1.000000     0.993126          0.000590   \n",
       "TOTAL UNITS                0.993126     1.000000         -0.008740   \n",
       "LAND SQUARE FEET           0.000590    -0.008740          1.000000   \n",
       "GROSS SQUARE FEET          0.009045     0.014153          0.664700   \n",
       "YEAR BUILT                -0.006119    -0.020447         -0.045750   \n",
       "SALE PRICE                 0.000403     0.018592          0.090386   \n",
       "\n",
       "                   GROSS SQUARE FEET  YEAR BUILT  SALE PRICE  \n",
       "BLOCK                      -0.277380   -0.071998   -0.329976  \n",
       "LOT                         0.072008    0.397129    0.210096  \n",
       "ZIP CODE                   -0.160108   -0.113800   -0.157944  \n",
       "RESIDENTIAL UNITS           0.042333   -0.127238    0.151180  \n",
       "COMMERCIAL UNITS            0.009045   -0.006119    0.000403  \n",
       "TOTAL UNITS                 0.014153   -0.020447    0.018592  \n",
       "LAND SQUARE FEET            0.664700   -0.045750    0.090386  \n",
       "GROSS SQUARE FEET           1.000000    0.004894    0.249645  \n",
       "YEAR BUILT                  0.004894    1.000000    0.030090  \n",
       "SALE PRICE                  0.249645    0.030090    1.000000  "
      ]
     },
     "execution_count": 80,
     "metadata": {},
     "output_type": "execute_result"
    }
   ],
   "source": [
    "data.corr()"
   ]
  },
  {
   "cell_type": "code",
   "execution_count": 81,
   "id": "b2321e94",
   "metadata": {},
   "outputs": [],
   "source": [
    "#dropping Residential and commercial units as total units is sum of both\n",
    "data=data.drop(columns='RESIDENTIAL UNITS')"
   ]
  },
  {
   "cell_type": "code",
   "execution_count": 82,
   "id": "e8d57f4d",
   "metadata": {},
   "outputs": [],
   "source": [
    "data=data.drop(columns='COMMERCIAL UNITS')"
   ]
  },
  {
   "cell_type": "code",
   "execution_count": 86,
   "id": "ec2906c4",
   "metadata": {},
   "outputs": [
    {
     "data": {
      "text/plain": [
       "Index(['BLOCK', 'LOT', 'ZIP CODE', 'TOTAL UNITS', 'LAND SQUARE FEET',\n",
       "       'YEAR BUILT', 'SALE PRICE'],\n",
       "      dtype='object')"
      ]
     },
     "execution_count": 86,
     "metadata": {},
     "output_type": "execute_result"
    }
   ],
   "source": [
    "numeric_data=data.select_dtypes(include=[np.number])\n",
    "numeric_data.describe()\n",
    "numeric_data.columns"
   ]
  },
  {
   "cell_type": "code",
   "execution_count": 87,
   "id": "a4c24690",
   "metadata": {},
   "outputs": [
    {
     "data": {
      "text/html": [
       "<div>\n",
       "<style scoped>\n",
       "    .dataframe tbody tr th:only-of-type {\n",
       "        vertical-align: middle;\n",
       "    }\n",
       "\n",
       "    .dataframe tbody tr th {\n",
       "        vertical-align: top;\n",
       "    }\n",
       "\n",
       "    .dataframe thead th {\n",
       "        text-align: right;\n",
       "    }\n",
       "</style>\n",
       "<table border=\"1\" class=\"dataframe\">\n",
       "  <thead>\n",
       "    <tr style=\"text-align: right;\">\n",
       "      <th></th>\n",
       "      <th>BLOCK</th>\n",
       "      <th>LOT</th>\n",
       "      <th>ZIP CODE</th>\n",
       "      <th>TOTAL UNITS</th>\n",
       "      <th>LAND SQUARE FEET</th>\n",
       "      <th>YEAR BUILT</th>\n",
       "      <th>SALE PRICE</th>\n",
       "    </tr>\n",
       "  </thead>\n",
       "  <tbody>\n",
       "    <tr>\n",
       "      <th>BLOCK</th>\n",
       "      <td>1.000000</td>\n",
       "      <td>-0.239443</td>\n",
       "      <td>0.279901</td>\n",
       "      <td>0.019277</td>\n",
       "      <td>-0.016990</td>\n",
       "      <td>-0.071998</td>\n",
       "      <td>-0.329976</td>\n",
       "    </tr>\n",
       "    <tr>\n",
       "      <th>LOT</th>\n",
       "      <td>-0.239443</td>\n",
       "      <td>1.000000</td>\n",
       "      <td>-0.164170</td>\n",
       "      <td>-0.014540</td>\n",
       "      <td>-0.063169</td>\n",
       "      <td>0.397129</td>\n",
       "      <td>0.210096</td>\n",
       "    </tr>\n",
       "    <tr>\n",
       "      <th>ZIP CODE</th>\n",
       "      <td>0.279901</td>\n",
       "      <td>-0.164170</td>\n",
       "      <td>1.000000</td>\n",
       "      <td>0.022295</td>\n",
       "      <td>-0.127876</td>\n",
       "      <td>-0.113800</td>\n",
       "      <td>-0.157944</td>\n",
       "    </tr>\n",
       "    <tr>\n",
       "      <th>TOTAL UNITS</th>\n",
       "      <td>0.019277</td>\n",
       "      <td>-0.014540</td>\n",
       "      <td>0.022295</td>\n",
       "      <td>1.000000</td>\n",
       "      <td>-0.008740</td>\n",
       "      <td>-0.020447</td>\n",
       "      <td>0.018592</td>\n",
       "    </tr>\n",
       "    <tr>\n",
       "      <th>LAND SQUARE FEET</th>\n",
       "      <td>-0.016990</td>\n",
       "      <td>-0.063169</td>\n",
       "      <td>-0.127876</td>\n",
       "      <td>-0.008740</td>\n",
       "      <td>1.000000</td>\n",
       "      <td>-0.045750</td>\n",
       "      <td>0.090386</td>\n",
       "    </tr>\n",
       "    <tr>\n",
       "      <th>YEAR BUILT</th>\n",
       "      <td>-0.071998</td>\n",
       "      <td>0.397129</td>\n",
       "      <td>-0.113800</td>\n",
       "      <td>-0.020447</td>\n",
       "      <td>-0.045750</td>\n",
       "      <td>1.000000</td>\n",
       "      <td>0.030090</td>\n",
       "    </tr>\n",
       "    <tr>\n",
       "      <th>SALE PRICE</th>\n",
       "      <td>-0.329976</td>\n",
       "      <td>0.210096</td>\n",
       "      <td>-0.157944</td>\n",
       "      <td>0.018592</td>\n",
       "      <td>0.090386</td>\n",
       "      <td>0.030090</td>\n",
       "      <td>1.000000</td>\n",
       "    </tr>\n",
       "  </tbody>\n",
       "</table>\n",
       "</div>"
      ],
      "text/plain": [
       "                     BLOCK       LOT  ZIP CODE  TOTAL UNITS  LAND SQUARE FEET  \\\n",
       "BLOCK             1.000000 -0.239443  0.279901     0.019277         -0.016990   \n",
       "LOT              -0.239443  1.000000 -0.164170    -0.014540         -0.063169   \n",
       "ZIP CODE          0.279901 -0.164170  1.000000     0.022295         -0.127876   \n",
       "TOTAL UNITS       0.019277 -0.014540  0.022295     1.000000         -0.008740   \n",
       "LAND SQUARE FEET -0.016990 -0.063169 -0.127876    -0.008740          1.000000   \n",
       "YEAR BUILT       -0.071998  0.397129 -0.113800    -0.020447         -0.045750   \n",
       "SALE PRICE       -0.329976  0.210096 -0.157944     0.018592          0.090386   \n",
       "\n",
       "                  YEAR BUILT  SALE PRICE  \n",
       "BLOCK              -0.071998   -0.329976  \n",
       "LOT                 0.397129    0.210096  \n",
       "ZIP CODE           -0.113800   -0.157944  \n",
       "TOTAL UNITS        -0.020447    0.018592  \n",
       "LAND SQUARE FEET   -0.045750    0.090386  \n",
       "YEAR BUILT          1.000000    0.030090  \n",
       "SALE PRICE          0.030090    1.000000  "
      ]
     },
     "execution_count": 87,
     "metadata": {},
     "output_type": "execute_result"
    }
   ],
   "source": [
    "data.corr()"
   ]
  },
  {
   "cell_type": "code",
   "execution_count": 83,
   "id": "0f38d45a",
   "metadata": {},
   "outputs": [],
   "source": [
    "#dropping Gross Square feet as Land Square feet would give precise results\n",
    "data=data.drop(columns='GROSS SQUARE FEET')"
   ]
  },
  {
   "cell_type": "code",
   "execution_count": 88,
   "id": "70380948",
   "metadata": {},
   "outputs": [],
   "source": [
    "#transform the numeric features using log(x + 1)\n",
    "from scipy.stats import skew\n",
    "skewed = data[numeric_data.columns].apply(lambda x: skew(x.dropna().astype(float)))\n",
    "skewed = skewed[skewed > 0.75]\n",
    "skewed = skewed.index\n",
    "data[skewed] = np.log1p(data[skewed])"
   ]
  },
  {
   "cell_type": "code",
   "execution_count": 89,
   "id": "619d5e6b",
   "metadata": {},
   "outputs": [
    {
     "data": {
      "text/html": [
       "<div>\n",
       "<style scoped>\n",
       "    .dataframe tbody tr th:only-of-type {\n",
       "        vertical-align: middle;\n",
       "    }\n",
       "\n",
       "    .dataframe tbody tr th {\n",
       "        vertical-align: top;\n",
       "    }\n",
       "\n",
       "    .dataframe thead th {\n",
       "        text-align: right;\n",
       "    }\n",
       "</style>\n",
       "<table border=\"1\" class=\"dataframe\">\n",
       "  <thead>\n",
       "    <tr style=\"text-align: right;\">\n",
       "      <th></th>\n",
       "      <th>BLOCK</th>\n",
       "      <th>LOT</th>\n",
       "      <th>TOTAL UNITS</th>\n",
       "      <th>SALE PRICE</th>\n",
       "    </tr>\n",
       "  </thead>\n",
       "  <tbody>\n",
       "    <tr>\n",
       "      <th>3</th>\n",
       "      <td>5.998937</td>\n",
       "      <td>3.091042</td>\n",
       "      <td>2.397895</td>\n",
       "      <td>15.185745</td>\n",
       "    </tr>\n",
       "    <tr>\n",
       "      <th>6</th>\n",
       "      <td>6.008813</td>\n",
       "      <td>3.496508</td>\n",
       "      <td>2.197225</td>\n",
       "      <td>14.976422</td>\n",
       "    </tr>\n",
       "    <tr>\n",
       "      <th>13</th>\n",
       "      <td>5.924256</td>\n",
       "      <td>3.713572</td>\n",
       "      <td>0.000000</td>\n",
       "      <td>13.120363</td>\n",
       "    </tr>\n",
       "    <tr>\n",
       "      <th>15</th>\n",
       "      <td>5.924256</td>\n",
       "      <td>3.713572</td>\n",
       "      <td>0.000000</td>\n",
       "      <td>13.179690</td>\n",
       "    </tr>\n",
       "    <tr>\n",
       "      <th>16</th>\n",
       "      <td>5.924256</td>\n",
       "      <td>3.713572</td>\n",
       "      <td>0.000000</td>\n",
       "      <td>12.955130</td>\n",
       "    </tr>\n",
       "  </tbody>\n",
       "</table>\n",
       "</div>"
      ],
      "text/plain": [
       "       BLOCK       LOT  TOTAL UNITS  SALE PRICE\n",
       "3   5.998937  3.091042     2.397895   15.185745\n",
       "6   6.008813  3.496508     2.197225   14.976422\n",
       "13  5.924256  3.713572     0.000000   13.120363\n",
       "15  5.924256  3.713572     0.000000   13.179690\n",
       "16  5.924256  3.713572     0.000000   12.955130"
      ]
     },
     "execution_count": 89,
     "metadata": {},
     "output_type": "execute_result"
    }
   ],
   "source": [
    "data[skewed].head()"
   ]
  },
  {
   "cell_type": "code",
   "execution_count": 90,
   "id": "f7c982ae",
   "metadata": {},
   "outputs": [
    {
     "name": "stderr",
     "output_type": "stream",
     "text": [
      "C:\\Users\\gaura\\anaconda3\\lib\\site-packages\\seaborn\\distributions.py:2557: FutureWarning: `distplot` is a deprecated function and will be removed in a future version. Please adapt your code to use either `displot` (a figure-level function with similar flexibility) or `histplot` (an axes-level function for histograms).\n",
      "  warnings.warn(msg, FutureWarning)\n"
     ]
    },
    {
     "data": {
      "text/plain": [
       "<AxesSubplot:xlabel='SALE PRICE', ylabel='Density'>"
      ]
     },
     "execution_count": 90,
     "metadata": {},
     "output_type": "execute_result"
    },
    {
     "data": {
      "image/png": "[encoded data removed]",
      "text/plain": [
       "<Figure size 432x288 with 1 Axes>"
      ]
     },
     "metadata": {
      "needs_background": "light"
     },
     "output_type": "display_data"
    }
   ],
   "source": [
    "sb.distplot(data['SALE PRICE'])"
   ]
  },
  {
   "cell_type": "code",
   "execution_count": 91,
   "id": "4fe2290a",
   "metadata": {},
   "outputs": [],
   "source": [
    "scaler = StandardScaler()\n",
    "scaler.fit(data[numeric_data.columns])\n",
    "scaled = scaler.transform(data[numeric_data.columns])\n",
    "\n",
    "for i, col in enumerate(numeric_data.columns):\n",
    "       data[col] = scaled[:,i]"
   ]
  },
  {
   "cell_type": "code",
   "execution_count": 92,
   "id": "6f7adb37",
   "metadata": {},
   "outputs": [
    {
     "data": {
      "text/html": [
       "<div>\n",
       "<style scoped>\n",
       "    .dataframe tbody tr th:only-of-type {\n",
       "        vertical-align: middle;\n",
       "    }\n",
       "\n",
       "    .dataframe tbody tr th {\n",
       "        vertical-align: top;\n",
       "    }\n",
       "\n",
       "    .dataframe thead th {\n",
       "        text-align: right;\n",
       "    }\n",
       "</style>\n",
       "<table border=\"1\" class=\"dataframe\">\n",
       "  <thead>\n",
       "    <tr style=\"text-align: right;\">\n",
       "      <th></th>\n",
       "      <th>BOROUGH</th>\n",
       "      <th>NEIGHBORHOOD</th>\n",
       "      <th>BUILDING CLASS CATEGORY</th>\n",
       "      <th>TAX CLASS AT PRESENT</th>\n",
       "      <th>BLOCK</th>\n",
       "      <th>LOT</th>\n",
       "      <th>BUILDING CLASS AT PRESENT</th>\n",
       "      <th>ZIP CODE</th>\n",
       "      <th>TOTAL UNITS</th>\n",
       "      <th>LAND SQUARE FEET</th>\n",
       "      <th>YEAR BUILT</th>\n",
       "      <th>TAX CLASS AT TIME OF SALE</th>\n",
       "      <th>BUILDING CLASS AT TIME OF SALE</th>\n",
       "      <th>SALE PRICE</th>\n",
       "      <th>SALE YEAR</th>\n",
       "      <th>SALE MONTH</th>\n",
       "    </tr>\n",
       "  </thead>\n",
       "  <tbody>\n",
       "    <tr>\n",
       "      <th>3</th>\n",
       "      <td>Manhattan</td>\n",
       "      <td>ALPHABET CITY</td>\n",
       "      <td>07 RENTALS - WALKUP APARTMENTS</td>\n",
       "      <td>Class 2</td>\n",
       "      <td>-1.529970</td>\n",
       "      <td>-0.637287</td>\n",
       "      <td>C4</td>\n",
       "      <td>-0.638097</td>\n",
       "      <td>3.669621</td>\n",
       "      <td>-0.378911</td>\n",
       "      <td>-1.136035</td>\n",
       "      <td>Class 2</td>\n",
       "      <td>C4</td>\n",
       "      <td>2.430173</td>\n",
       "      <td>2016</td>\n",
       "      <td>9</td>\n",
       "    </tr>\n",
       "    <tr>\n",
       "      <th>6</th>\n",
       "      <td>Manhattan</td>\n",
       "      <td>ALPHABET CITY</td>\n",
       "      <td>07 RENTALS - WALKUP APARTMENTS</td>\n",
       "      <td>Class 2</td>\n",
       "      <td>-1.521843</td>\n",
       "      <td>-0.430541</td>\n",
       "      <td>C4</td>\n",
       "      <td>-0.638097</td>\n",
       "      <td>3.252003</td>\n",
       "      <td>-0.705663</td>\n",
       "      <td>-0.932581</td>\n",
       "      <td>Class 2</td>\n",
       "      <td>C4</td>\n",
       "      <td>2.150482</td>\n",
       "      <td>2016</td>\n",
       "      <td>9</td>\n",
       "    </tr>\n",
       "    <tr>\n",
       "      <th>13</th>\n",
       "      <td>Manhattan</td>\n",
       "      <td>ALPHABET CITY</td>\n",
       "      <td>09 COOPS - WALKUP APARTMENTS</td>\n",
       "      <td>Class 2</td>\n",
       "      <td>-1.591420</td>\n",
       "      <td>-0.319861</td>\n",
       "      <td>C6</td>\n",
       "      <td>-0.638097</td>\n",
       "      <td>-1.320667</td>\n",
       "      <td>0.666241</td>\n",
       "      <td>-0.932581</td>\n",
       "      <td>Class 2</td>\n",
       "      <td>C6</td>\n",
       "      <td>-0.329516</td>\n",
       "      <td>2017</td>\n",
       "      <td>3</td>\n",
       "    </tr>\n",
       "    <tr>\n",
       "      <th>15</th>\n",
       "      <td>Manhattan</td>\n",
       "      <td>ALPHABET CITY</td>\n",
       "      <td>09 COOPS - WALKUP APARTMENTS</td>\n",
       "      <td>Class 2</td>\n",
       "      <td>-1.591420</td>\n",
       "      <td>-0.319861</td>\n",
       "      <td>C6</td>\n",
       "      <td>-0.638097</td>\n",
       "      <td>-1.320667</td>\n",
       "      <td>0.666241</td>\n",
       "      <td>-0.932581</td>\n",
       "      <td>Class 2</td>\n",
       "      <td>C6</td>\n",
       "      <td>-0.250245</td>\n",
       "      <td>2017</td>\n",
       "      <td>6</td>\n",
       "    </tr>\n",
       "    <tr>\n",
       "      <th>16</th>\n",
       "      <td>Manhattan</td>\n",
       "      <td>ALPHABET CITY</td>\n",
       "      <td>09 COOPS - WALKUP APARTMENTS</td>\n",
       "      <td>Class 2</td>\n",
       "      <td>-1.591420</td>\n",
       "      <td>-0.319861</td>\n",
       "      <td>C6</td>\n",
       "      <td>-0.638097</td>\n",
       "      <td>-1.320667</td>\n",
       "      <td>0.666241</td>\n",
       "      <td>-0.932581</td>\n",
       "      <td>Class 2</td>\n",
       "      <td>C6</td>\n",
       "      <td>-0.550295</td>\n",
       "      <td>2017</td>\n",
       "      <td>7</td>\n",
       "    </tr>\n",
       "  </tbody>\n",
       "</table>\n",
       "</div>"
      ],
      "text/plain": [
       "      BOROUGH   NEIGHBORHOOD                      BUILDING CLASS CATEGORY  \\\n",
       "3   Manhattan  ALPHABET CITY  07 RENTALS - WALKUP APARTMENTS                \n",
       "6   Manhattan  ALPHABET CITY  07 RENTALS - WALKUP APARTMENTS                \n",
       "13  Manhattan  ALPHABET CITY  09 COOPS - WALKUP APARTMENTS                  \n",
       "15  Manhattan  ALPHABET CITY  09 COOPS - WALKUP APARTMENTS                  \n",
       "16  Manhattan  ALPHABET CITY  09 COOPS - WALKUP APARTMENTS                  \n",
       "\n",
       "   TAX CLASS AT PRESENT     BLOCK       LOT BUILDING CLASS AT PRESENT  \\\n",
       "3               Class 2 -1.529970 -0.637287                        C4   \n",
       "6               Class 2 -1.521843 -0.430541                        C4   \n",
       "13              Class 2 -1.591420 -0.319861                        C6   \n",
       "15              Class 2 -1.591420 -0.319861                        C6   \n",
       "16              Class 2 -1.591420 -0.319861                        C6   \n",
       "\n",
       "    ZIP CODE  TOTAL UNITS  LAND SQUARE FEET  YEAR BUILT  \\\n",
       "3  -0.638097     3.669621         -0.378911   -1.136035   \n",
       "6  -0.638097     3.252003         -0.705663   -0.932581   \n",
       "13 -0.638097    -1.320667          0.666241   -0.932581   \n",
       "15 -0.638097    -1.320667          0.666241   -0.932581   \n",
       "16 -0.638097    -1.320667          0.666241   -0.932581   \n",
       "\n",
       "   TAX CLASS AT TIME OF SALE BUILDING CLASS AT TIME OF SALE  SALE PRICE  \\\n",
       "3                    Class 2                             C4    2.430173   \n",
       "6                    Class 2                             C4    2.150482   \n",
       "13                   Class 2                             C6   -0.329516   \n",
       "15                   Class 2                             C6   -0.250245   \n",
       "16                   Class 2                             C6   -0.550295   \n",
       "\n",
       "   SALE YEAR SALE MONTH  \n",
       "3       2016          9  \n",
       "6       2016          9  \n",
       "13      2017          3  \n",
       "15      2017          6  \n",
       "16      2017          7  "
      ]
     },
     "execution_count": 92,
     "metadata": {},
     "output_type": "execute_result"
    }
   ],
   "source": [
    "data.head()"
   ]
  },
  {
   "cell_type": "code",
   "execution_count": 93,
   "id": "55796bab",
   "metadata": {},
   "outputs": [
    {
     "name": "stdout",
     "output_type": "stream",
     "text": [
      "<class 'pandas.core.frame.DataFrame'>\n",
      "Int64Index: 53920 entries, 3 to 84545\n",
      "Data columns (total 16 columns):\n",
      " #   Column                          Non-Null Count  Dtype   \n",
      "---  ------                          --------------  -----   \n",
      " 0   BOROUGH                         53920 non-null  category\n",
      " 1   NEIGHBORHOOD                    53920 non-null  category\n",
      " 2   BUILDING CLASS CATEGORY         53920 non-null  category\n",
      " 3   TAX CLASS AT PRESENT            53920 non-null  category\n",
      " 4   BLOCK                           53920 non-null  float64 \n",
      " 5   LOT                             53920 non-null  float64 \n",
      " 6   BUILDING CLASS AT PRESENT       53920 non-null  object  \n",
      " 7   ZIP CODE                        53920 non-null  float64 \n",
      " 8   TOTAL UNITS                     53920 non-null  float64 \n",
      " 9   LAND SQUARE FEET                53920 non-null  float64 \n",
      " 10  YEAR BUILT                      53920 non-null  float64 \n",
      " 11  TAX CLASS AT TIME OF SALE       53920 non-null  object  \n",
      " 12  BUILDING CLASS AT TIME OF SALE  53920 non-null  object  \n",
      " 13  SALE PRICE                      53920 non-null  float64 \n",
      " 14  SALE YEAR                       53920 non-null  object  \n",
      " 15  SALE MONTH                      53920 non-null  object  \n",
      "dtypes: category(4), float64(7), object(5)\n",
      "memory usage: 7.6+ MB\n"
     ]
    }
   ],
   "source": [
    "data.info()"
   ]
  },
  {
   "cell_type": "code",
   "execution_count": 94,
   "id": "7301ab33",
   "metadata": {},
   "outputs": [],
   "source": [
    "data = data.drop(columns='BUILDING CLASS AT PRESENT')\n",
    "data = data.drop(columns='BUILDING CLASS AT TIME OF SALE')\n",
    "data = data.drop(columns='NEIGHBORHOOD')\n"
   ]
  },
  {
   "cell_type": "code",
   "execution_count": 95,
   "id": "27a2547d",
   "metadata": {},
   "outputs": [
    {
     "name": "stdout",
     "output_type": "stream",
     "text": [
      "<class 'pandas.core.frame.DataFrame'>\n",
      "Int64Index: 53920 entries, 3 to 84545\n",
      "Data columns (total 13 columns):\n",
      " #   Column                     Non-Null Count  Dtype   \n",
      "---  ------                     --------------  -----   \n",
      " 0   BOROUGH                    53920 non-null  category\n",
      " 1   BUILDING CLASS CATEGORY    53920 non-null  category\n",
      " 2   TAX CLASS AT PRESENT       53920 non-null  category\n",
      " 3   BLOCK                      53920 non-null  float64 \n",
      " 4   LOT                        53920 non-null  float64 \n",
      " 5   ZIP CODE                   53920 non-null  float64 \n",
      " 6   TOTAL UNITS                53920 non-null  float64 \n",
      " 7   LAND SQUARE FEET           53920 non-null  float64 \n",
      " 8   YEAR BUILT                 53920 non-null  float64 \n",
      " 9   TAX CLASS AT TIME OF SALE  53920 non-null  object  \n",
      " 10  SALE PRICE                 53920 non-null  float64 \n",
      " 11  SALE YEAR                  53920 non-null  object  \n",
      " 12  SALE MONTH                 53920 non-null  object  \n",
      "dtypes: category(3), float64(7), object(3)\n",
      "memory usage: 6.7+ MB\n"
     ]
    }
   ],
   "source": [
    "data.info()"
   ]
  },
  {
   "cell_type": "code",
   "execution_count": 96,
   "id": "f90dcffe",
   "metadata": {},
   "outputs": [],
   "source": [
    "data = data.drop(columns='TAX CLASS AT PRESENT')"
   ]
  },
  {
   "cell_type": "code",
   "execution_count": 97,
   "id": "6abb6bb4",
   "metadata": {},
   "outputs": [],
   "source": [
    "#Select the variables to be one-hot encoded\n",
    "one_hot_features = ['BOROUGH', 'BUILDING CLASS CATEGORY','TAX CLASS AT TIME OF SALE']"
   ]
  },
  {
   "cell_type": "code",
   "execution_count": 98,
   "id": "39c2b77e",
   "metadata": {},
   "outputs": [
    {
     "name": "stdout",
     "output_type": "stream",
     "text": [
      "<class 'pandas.core.frame.DataFrame'>\n",
      "Int64Index: 53920 entries, 3 to 84545\n",
      "Data columns (total 55 columns):\n",
      " #   Column                                                                Non-Null Count  Dtype\n",
      "---  ------                                                                --------------  -----\n",
      " 0   BOROUGH_Bronx                                                         53920 non-null  uint8\n",
      " 1   BOROUGH_Brooklyn                                                      53920 non-null  uint8\n",
      " 2   BOROUGH_Manhattan                                                     53920 non-null  uint8\n",
      " 3   BOROUGH_Queens                                                        53920 non-null  uint8\n",
      " 4   BOROUGH_Staten Island                                                 53920 non-null  uint8\n",
      " 5   BUILDING CLASS CATEGORY_01 ONE FAMILY DWELLINGS                       53920 non-null  uint8\n",
      " 6   BUILDING CLASS CATEGORY_02 TWO FAMILY DWELLINGS                       53920 non-null  uint8\n",
      " 7   BUILDING CLASS CATEGORY_03 THREE FAMILY DWELLINGS                     53920 non-null  uint8\n",
      " 8   BUILDING CLASS CATEGORY_04 TAX CLASS 1 CONDOS                         53920 non-null  uint8\n",
      " 9   BUILDING CLASS CATEGORY_05 TAX CLASS 1 VACANT LAND                    53920 non-null  uint8\n",
      " 10  BUILDING CLASS CATEGORY_06 TAX CLASS 1 - OTHER                        53920 non-null  uint8\n",
      " 11  BUILDING CLASS CATEGORY_07 RENTALS - WALKUP APARTMENTS                53920 non-null  uint8\n",
      " 12  BUILDING CLASS CATEGORY_08 RENTALS - ELEVATOR APARTMENTS              53920 non-null  uint8\n",
      " 13  BUILDING CLASS CATEGORY_09 COOPS - WALKUP APARTMENTS                  53920 non-null  uint8\n",
      " 14  BUILDING CLASS CATEGORY_10 COOPS - ELEVATOR APARTMENTS                53920 non-null  uint8\n",
      " 15  BUILDING CLASS CATEGORY_11 SPECIAL CONDO BILLING LOTS                 53920 non-null  uint8\n",
      " 16  BUILDING CLASS CATEGORY_11A CONDO-RENTALS                             53920 non-null  uint8\n",
      " 17  BUILDING CLASS CATEGORY_12 CONDOS - WALKUP APARTMENTS                 53920 non-null  uint8\n",
      " 18  BUILDING CLASS CATEGORY_13 CONDOS - ELEVATOR APARTMENTS               53920 non-null  uint8\n",
      " 19  BUILDING CLASS CATEGORY_14 RENTALS - 4-10 UNIT                        53920 non-null  uint8\n",
      " 20  BUILDING CLASS CATEGORY_15 CONDOS - 2-10 UNIT RESIDENTIAL             53920 non-null  uint8\n",
      " 21  BUILDING CLASS CATEGORY_16 CONDOS - 2-10 UNIT WITH COMMERCIAL UNIT    53920 non-null  uint8\n",
      " 22  BUILDING CLASS CATEGORY_17 CONDO COOPS                                53920 non-null  uint8\n",
      " 23  BUILDING CLASS CATEGORY_18 TAX CLASS 3 - UNTILITY PROPERTIES          53920 non-null  uint8\n",
      " 24  BUILDING CLASS CATEGORY_21 OFFICE BUILDINGS                           53920 non-null  uint8\n",
      " 25  BUILDING CLASS CATEGORY_22 STORE BUILDINGS                            53920 non-null  uint8\n",
      " 26  BUILDING CLASS CATEGORY_23 LOFT BUILDINGS                             53920 non-null  uint8\n",
      " 27  BUILDING CLASS CATEGORY_25 LUXURY HOTELS                              53920 non-null  uint8\n",
      " 28  BUILDING CLASS CATEGORY_26 OTHER HOTELS                               53920 non-null  uint8\n",
      " 29  BUILDING CLASS CATEGORY_27 FACTORIES                                  53920 non-null  uint8\n",
      " 30  BUILDING CLASS CATEGORY_28 COMMERCIAL CONDOS                          53920 non-null  uint8\n",
      " 31  BUILDING CLASS CATEGORY_29 COMMERCIAL GARAGES                         53920 non-null  uint8\n",
      " 32  BUILDING CLASS CATEGORY_30 WAREHOUSES                                 53920 non-null  uint8\n",
      " 33  BUILDING CLASS CATEGORY_31 COMMERCIAL VACANT LAND                     53920 non-null  uint8\n",
      " 34  BUILDING CLASS CATEGORY_32 HOSPITAL AND HEALTH FACILITIES             53920 non-null  uint8\n",
      " 35  BUILDING CLASS CATEGORY_33 EDUCATIONAL FACILITIES                     53920 non-null  uint8\n",
      " 36  BUILDING CLASS CATEGORY_34 THEATRES                                   53920 non-null  uint8\n",
      " 37  BUILDING CLASS CATEGORY_35 INDOOR PUBLIC AND CULTURAL FACILITIES      53920 non-null  uint8\n",
      " 38  BUILDING CLASS CATEGORY_36 OUTDOOR RECREATIONAL FACILITIES            53920 non-null  uint8\n",
      " 39  BUILDING CLASS CATEGORY_37 RELIGIOUS FACILITIES                       53920 non-null  uint8\n",
      " 40  BUILDING CLASS CATEGORY_38 ASYLUMS AND HOMES                          53920 non-null  uint8\n",
      " 41  BUILDING CLASS CATEGORY_39 TRANSPORTATION FACILITIES                  53920 non-null  uint8\n",
      " 42  BUILDING CLASS CATEGORY_40 SELECTED GOVERNMENTAL FACILITIES           53920 non-null  uint8\n",
      " 43  BUILDING CLASS CATEGORY_41 TAX CLASS 4 - OTHER                        53920 non-null  uint8\n",
      " 44  BUILDING CLASS CATEGORY_42 CONDO CULTURAL/MEDICAL/EDUCATIONAL/ETC     53920 non-null  uint8\n",
      " 45  BUILDING CLASS CATEGORY_43 CONDO OFFICE BUILDINGS                     53920 non-null  uint8\n",
      " 46  BUILDING CLASS CATEGORY_44 CONDO PARKING                              53920 non-null  uint8\n",
      " 47  BUILDING CLASS CATEGORY_45 CONDO HOTELS                               53920 non-null  uint8\n",
      " 48  BUILDING CLASS CATEGORY_46 CONDO STORE BUILDINGS                      53920 non-null  uint8\n",
      " 49  BUILDING CLASS CATEGORY_47 CONDO NON-BUSINESS STORAGE                 53920 non-null  uint8\n",
      " 50  BUILDING CLASS CATEGORY_48 CONDO TERRACES/GARDENS/CABANAS             53920 non-null  uint8\n",
      " 51  BUILDING CLASS CATEGORY_49 CONDO WAREHOUSES/FACTORY/INDUS             53920 non-null  uint8\n",
      " 52  TAX CLASS AT TIME OF SALE_Class 1                                     53920 non-null  uint8\n",
      " 53  TAX CLASS AT TIME OF SALE_Class 2                                     53920 non-null  uint8\n",
      " 54  TAX CLASS AT TIME OF SALE_Class 4                                     53920 non-null  uint8\n",
      "dtypes: uint8(55)\n",
      "memory usage: 5.3 MB\n"
     ]
    },
    {
     "name": "stderr",
     "output_type": "stream",
     "text": [
      "<ipython-input-98-51f105c0d9b3>:3: FutureWarning: null_counts is deprecated. Use show_counts instead\n",
      "  one_hot_encoded.info(verbose=True, memory_usage=True, null_counts=True)\n"
     ]
    }
   ],
   "source": [
    "# Convert categorical variables into dummy/indicator variables (i.e. one-hot encoding).\n",
    "one_hot_encoded = pd.get_dummies(data[one_hot_features])\n",
    "one_hot_encoded.info(verbose=True, memory_usage=True, null_counts=True)"
   ]
  },
  {
   "cell_type": "code",
   "execution_count": 99,
   "id": "92f6df05",
   "metadata": {},
   "outputs": [],
   "source": [
    "# Replacing categorical columns with dummies\n",
    "FinalData = data.drop(one_hot_features,axis=1)\n",
    "FinalData = pd.concat([FinalData, one_hot_encoded] ,axis=1)"
   ]
  },
  {
   "cell_type": "code",
   "execution_count": 100,
   "id": "fd89a556",
   "metadata": {},
   "outputs": [
    {
     "name": "stdout",
     "output_type": "stream",
     "text": [
      "<class 'pandas.core.frame.DataFrame'>\n",
      "Int64Index: 53920 entries, 3 to 84545\n",
      "Data columns (total 64 columns):\n",
      " #   Column                                                                Non-Null Count  Dtype  \n",
      "---  ------                                                                --------------  -----  \n",
      " 0   BLOCK                                                                 53920 non-null  float64\n",
      " 1   LOT                                                                   53920 non-null  float64\n",
      " 2   ZIP CODE                                                              53920 non-null  float64\n",
      " 3   TOTAL UNITS                                                           53920 non-null  float64\n",
      " 4   LAND SQUARE FEET                                                      53920 non-null  float64\n",
      " 5   YEAR BUILT                                                            53920 non-null  float64\n",
      " 6   SALE PRICE                                                            53920 non-null  float64\n",
      " 7   SALE YEAR                                                             53920 non-null  object \n",
      " 8   SALE MONTH                                                            53920 non-null  object \n",
      " 9   BOROUGH_Bronx                                                         53920 non-null  uint8  \n",
      " 10  BOROUGH_Brooklyn                                                      53920 non-null  uint8  \n",
      " 11  BOROUGH_Manhattan                                                     53920 non-null  uint8  \n",
      " 12  BOROUGH_Queens                                                        53920 non-null  uint8  \n",
      " 13  BOROUGH_Staten Island                                                 53920 non-null  uint8  \n",
      " 14  BUILDING CLASS CATEGORY_01 ONE FAMILY DWELLINGS                       53920 non-null  uint8  \n",
      " 15  BUILDING CLASS CATEGORY_02 TWO FAMILY DWELLINGS                       53920 non-null  uint8  \n",
      " 16  BUILDING CLASS CATEGORY_03 THREE FAMILY DWELLINGS                     53920 non-null  uint8  \n",
      " 17  BUILDING CLASS CATEGORY_04 TAX CLASS 1 CONDOS                         53920 non-null  uint8  \n",
      " 18  BUILDING CLASS CATEGORY_05 TAX CLASS 1 VACANT LAND                    53920 non-null  uint8  \n",
      " 19  BUILDING CLASS CATEGORY_06 TAX CLASS 1 - OTHER                        53920 non-null  uint8  \n",
      " 20  BUILDING CLASS CATEGORY_07 RENTALS - WALKUP APARTMENTS                53920 non-null  uint8  \n",
      " 21  BUILDING CLASS CATEGORY_08 RENTALS - ELEVATOR APARTMENTS              53920 non-null  uint8  \n",
      " 22  BUILDING CLASS CATEGORY_09 COOPS - WALKUP APARTMENTS                  53920 non-null  uint8  \n",
      " 23  BUILDING CLASS CATEGORY_10 COOPS - ELEVATOR APARTMENTS                53920 non-null  uint8  \n",
      " 24  BUILDING CLASS CATEGORY_11 SPECIAL CONDO BILLING LOTS                 53920 non-null  uint8  \n",
      " 25  BUILDING CLASS CATEGORY_11A CONDO-RENTALS                             53920 non-null  uint8  \n",
      " 26  BUILDING CLASS CATEGORY_12 CONDOS - WALKUP APARTMENTS                 53920 non-null  uint8  \n",
      " 27  BUILDING CLASS CATEGORY_13 CONDOS - ELEVATOR APARTMENTS               53920 non-null  uint8  \n",
      " 28  BUILDING CLASS CATEGORY_14 RENTALS - 4-10 UNIT                        53920 non-null  uint8  \n",
      " 29  BUILDING CLASS CATEGORY_15 CONDOS - 2-10 UNIT RESIDENTIAL             53920 non-null  uint8  \n",
      " 30  BUILDING CLASS CATEGORY_16 CONDOS - 2-10 UNIT WITH COMMERCIAL UNIT    53920 non-null  uint8  \n",
      " 31  BUILDING CLASS CATEGORY_17 CONDO COOPS                                53920 non-null  uint8  \n",
      " 32  BUILDING CLASS CATEGORY_18 TAX CLASS 3 - UNTILITY PROPERTIES          53920 non-null  uint8  \n",
      " 33  BUILDING CLASS CATEGORY_21 OFFICE BUILDINGS                           53920 non-null  uint8  \n",
      " 34  BUILDING CLASS CATEGORY_22 STORE BUILDINGS                            53920 non-null  uint8  \n",
      " 35  BUILDING CLASS CATEGORY_23 LOFT BUILDINGS                             53920 non-null  uint8  \n",
      " 36  BUILDING CLASS CATEGORY_25 LUXURY HOTELS                              53920 non-null  uint8  \n",
      " 37  BUILDING CLASS CATEGORY_26 OTHER HOTELS                               53920 non-null  uint8  \n",
      " 38  BUILDING CLASS CATEGORY_27 FACTORIES                                  53920 non-null  uint8  \n",
      " 39  BUILDING CLASS CATEGORY_28 COMMERCIAL CONDOS                          53920 non-null  uint8  \n",
      " 40  BUILDING CLASS CATEGORY_29 COMMERCIAL GARAGES                         53920 non-null  uint8  \n",
      " 41  BUILDING CLASS CATEGORY_30 WAREHOUSES                                 53920 non-null  uint8  \n",
      " 42  BUILDING CLASS CATEGORY_31 COMMERCIAL VACANT LAND                     53920 non-null  uint8  \n",
      " 43  BUILDING CLASS CATEGORY_32 HOSPITAL AND HEALTH FACILITIES             53920 non-null  uint8  \n",
      " 44  BUILDING CLASS CATEGORY_33 EDUCATIONAL FACILITIES                     53920 non-null  uint8  \n",
      " 45  BUILDING CLASS CATEGORY_34 THEATRES                                   53920 non-null  uint8  \n",
      " 46  BUILDING CLASS CATEGORY_35 INDOOR PUBLIC AND CULTURAL FACILITIES      53920 non-null  uint8  \n",
      " 47  BUILDING CLASS CATEGORY_36 OUTDOOR RECREATIONAL FACILITIES            53920 non-null  uint8  \n",
      " 48  BUILDING CLASS CATEGORY_37 RELIGIOUS FACILITIES                       53920 non-null  uint8  \n",
      " 49  BUILDING CLASS CATEGORY_38 ASYLUMS AND HOMES                          53920 non-null  uint8  \n",
      " 50  BUILDING CLASS CATEGORY_39 TRANSPORTATION FACILITIES                  53920 non-null  uint8  \n",
      " 51  BUILDING CLASS CATEGORY_40 SELECTED GOVERNMENTAL FACILITIES           53920 non-null  uint8  \n",
      " 52  BUILDING CLASS CATEGORY_41 TAX CLASS 4 - OTHER                        53920 non-null  uint8  \n",
      " 53  BUILDING CLASS CATEGORY_42 CONDO CULTURAL/MEDICAL/EDUCATIONAL/ETC     53920 non-null  uint8  \n",
      " 54  BUILDING CLASS CATEGORY_43 CONDO OFFICE BUILDINGS                     53920 non-null  uint8  \n",
      " 55  BUILDING CLASS CATEGORY_44 CONDO PARKING                              53920 non-null  uint8  \n",
      " 56  BUILDING CLASS CATEGORY_45 CONDO HOTELS                               53920 non-null  uint8  \n",
      " 57  BUILDING CLASS CATEGORY_46 CONDO STORE BUILDINGS                      53920 non-null  uint8  \n",
      " 58  BUILDING CLASS CATEGORY_47 CONDO NON-BUSINESS STORAGE                 53920 non-null  uint8  \n",
      " 59  BUILDING CLASS CATEGORY_48 CONDO TERRACES/GARDENS/CABANAS             53920 non-null  uint8  \n",
      " 60  BUILDING CLASS CATEGORY_49 CONDO WAREHOUSES/FACTORY/INDUS             53920 non-null  uint8  \n",
      " 61  TAX CLASS AT TIME OF SALE_Class 1                                     53920 non-null  uint8  \n",
      " 62  TAX CLASS AT TIME OF SALE_Class 2                                     53920 non-null  uint8  \n",
      " 63  TAX CLASS AT TIME OF SALE_Class 4                                     53920 non-null  uint8  \n",
      "dtypes: float64(7), object(2), uint8(55)\n",
      "memory usage: 9.0+ MB\n"
     ]
    }
   ],
   "source": [
    "FinalData.info()"
   ]
  },
  {
   "cell_type": "markdown",
   "id": "069be707",
   "metadata": {},
   "source": [
    "Splitting Data for Training and Testing"
   ]
  },
  {
   "cell_type": "code",
   "execution_count": 101,
   "id": "739b98c4",
   "metadata": {},
   "outputs": [
    {
     "data": {
      "text/plain": [
       "((53920, 63), (53920,))"
      ]
     },
     "execution_count": 101,
     "metadata": {},
     "output_type": "execute_result"
    }
   ],
   "source": [
    "Y_FinalData = FinalData['SALE PRICE']\n",
    "X_FinalData = FinalData.drop('SALE PRICE', axis=1)\n",
    "\n",
    "X_FinalData.shape , Y_FinalData.shape"
   ]
  },
  {
   "cell_type": "code",
   "execution_count": 102,
   "id": "e7003668",
   "metadata": {},
   "outputs": [],
   "source": [
    "X_train ,X_test, Y_train , Y_test = train_test_split(X_FinalData , Y_FinalData , test_size = 0.2 , random_state =34)"
   ]
  },
  {
   "cell_type": "code",
   "execution_count": 103,
   "id": "d4d2e385",
   "metadata": {},
   "outputs": [
    {
     "data": {
      "text/plain": [
       "((43136, 63), (43136,))"
      ]
     },
     "execution_count": 103,
     "metadata": {},
     "output_type": "execute_result"
    }
   ],
   "source": [
    "# Training set\n",
    "X_train.shape , Y_train.shape"
   ]
  },
  {
   "cell_type": "code",
   "execution_count": 104,
   "id": "0f82247a",
   "metadata": {},
   "outputs": [
    {
     "data": {
      "text/plain": [
       "((10784, 63), (10784,))"
      ]
     },
     "execution_count": 104,
     "metadata": {},
     "output_type": "execute_result"
    }
   ],
   "source": [
    "# Testing set\n",
    "X_test.shape , Y_test.shape"
   ]
  },
  {
   "cell_type": "code",
   "execution_count": 105,
   "id": "794fedba",
   "metadata": {},
   "outputs": [],
   "source": [
    "# Root Mean Square Error\n",
    "def rmse(y_test,y_pred):\n",
    "      return np.sqrt(mean_squared_error(y_test,y_pred))"
   ]
  },
  {
   "cell_type": "code",
   "execution_count": 106,
   "id": "a6bfb315",
   "metadata": {},
   "outputs": [
    {
     "data": {
      "text/plain": [
       "LinearRegression()"
      ]
     },
     "execution_count": 106,
     "metadata": {},
     "output_type": "execute_result"
    }
   ],
   "source": [
    "#Linear Regression\n",
    "linreg = LinearRegression()\n",
    "linreg.fit(X_train, Y_train)\n"
   ]
  },
  {
   "cell_type": "code",
   "execution_count": 107,
   "id": "37a1d220",
   "metadata": {},
   "outputs": [
    {
     "data": {
      "text/plain": [
       "0.48109610743024456"
      ]
     },
     "execution_count": 107,
     "metadata": {},
     "output_type": "execute_result"
    }
   ],
   "source": [
    "linreg.score(X_train, Y_train)"
   ]
  },
  {
   "cell_type": "code",
   "execution_count": 108,
   "id": "513f8db3",
   "metadata": {},
   "outputs": [
    {
     "data": {
      "text/plain": [
       "0.720135608006096"
      ]
     },
     "execution_count": 108,
     "metadata": {},
     "output_type": "execute_result"
    }
   ],
   "source": [
    "Y_pred_lin = linreg.predict(X_test)\n",
    "rmse(Y_test,Y_pred_lin)"
   ]
  },
  {
   "cell_type": "code",
   "execution_count": 109,
   "id": "a78dae83",
   "metadata": {},
   "outputs": [
    {
     "data": {
      "text/plain": [
       "0.7234092312067316"
      ]
     },
     "execution_count": 109,
     "metadata": {},
     "output_type": "execute_result"
    }
   ],
   "source": [
    "#Lasso Regression with aplha = 0.00099 and maximum iteration of 5000\n",
    "alpha=0.00099\n",
    "lasso_regr=Lasso(alpha=alpha,max_iter=50000)\n",
    "lasso_regr.fit(X_train, Y_train)\n",
    "Y_pred_lasso=lasso_regr.predict(X_test)\n",
    "rmse(Y_test,Y_pred_lasso)"
   ]
  },
  {
   "cell_type": "code",
   "execution_count": 110,
   "id": "7b40bb40",
   "metadata": {},
   "outputs": [
    {
     "data": {
      "text/plain": [
       "0.7203165463316301"
      ]
     },
     "execution_count": 110,
     "metadata": {},
     "output_type": "execute_result"
    }
   ],
   "source": [
    "#Ridge Regression with alpha=0.01 & normalize=True\n",
    "ridge = Ridge(alpha=0.01, normalize=True)\n",
    "ridge.fit(X_train, Y_train)\n",
    "Y_pred_ridge = ridge.predict(X_test)\n",
    "rmse(Y_test,Y_pred_ridge)"
   ]
  },
  {
   "cell_type": "code",
   "execution_count": 111,
   "id": "b5aabde5",
   "metadata": {},
   "outputs": [
    {
     "data": {
      "text/plain": [
       "0.5469293975154836"
      ]
     },
     "execution_count": 111,
     "metadata": {},
     "output_type": "execute_result"
    }
   ],
   "source": [
    "rf_regr = RandomForestRegressor()\n",
    "rf_regr.fit(X_train, Y_train)\n",
    "Y_pred_rf = rf_regr.predict(X_test)\n",
    "rmse(Y_test,Y_pred_rf)"
   ]
  },
  {
   "cell_type": "markdown",
   "id": "886d265c",
   "metadata": {},
   "source": [
    "Comparing Root Mean Square Error of all the models Random Forest classifier is the best fit with RMSE = 0.54\n",
    "\n"
   ]
  }
 ],
 "metadata": {
  "kernelspec": {
   "display_name": "Python 3",
   "language": "python",
   "name": "python3"
  },
  "language_info": {
   "codemirror_mode": {
    "name": "ipython",
    "version": 3
   },
   "file_extension": ".py",
   "mimetype": "text/x-python",
   "name": "python",
   "nbconvert_exporter": "python",
   "pygments_lexer": "ipython3",
   "version": "3.8.8"
  }
 },
 "nbformat": 4,
 "nbformat_minor": 5
}
